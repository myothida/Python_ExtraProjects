{
  "cells": [
    {
      "cell_type": "markdown",
      "metadata": {
        "id": "b-1b6ywy-O5i"
      },
      "source": [
        "Exercises are taken from : https://www.brianheinold.net/python/A_Practical_Introduction_to_Python_Programming_Heinold.pdf\n"
      ]
    },
    {
      "cell_type": "markdown",
      "metadata": {
        "id": "pps5xBbs-I9w"
      },
      "source": [
        "Ex 1: Write a function called rectangle that takes two integers m and n as arguments and prints\n",
        "out an m× n box consisting of asterisks. Shown below is the output of rectangle(2,4)\n",
        "****\n",
        "****"
      ]
    },
    {
      "cell_type": "code",
      "execution_count": 16,
      "metadata": {
        "colab": {
          "base_uri": "https://localhost:8080/"
        },
        "id": "S_5WWVLH3u8y",
        "outputId": "a5aac8aa-93d9-4568-870c-3b837ebe02ae"
      },
      "outputs": [
        {
          "name": "stdout",
          "output_type": "stream",
          "text": [
            "****\n",
            "****\n"
          ]
        }
      ],
      "source": [
        "def rectangle(m,n):\n",
        "  \"\"\"prints an m * n rectangle out of asterisks\"\"\"\n",
        "  for _ in range(m):\n",
        "    print('*' * n)\n",
        "rectangle(2,4)"
      ]
    },
    {
      "cell_type": "markdown",
      "metadata": {
        "id": "0QS7SmPV-coO"
      },
      "source": [
        "Ex 2: Write a function that takes an integer n and returns a random integer with exactly n digits. For\n",
        "instance, if n is 3, then 125 and 593 would be valid return values, but 093 would not because\n",
        "that is really 93, which is a two-digit number."
      ]
    },
    {
      "cell_type": "code",
      "execution_count": null,
      "metadata": {
        "id": "c4ejnmGJ-MzL"
      },
      "outputs": [],
      "source": [
        "import random\n",
        "def random_int (n):\n",
        "  return.random.randint(10**(n-1),10**n-1)\n",
        "random_int(3)"
      ]
    },
    {
      "cell_type": "markdown",
      "metadata": {
        "id": "B0P_F5Ld-ldg"
      },
      "source": [
        "Ex 3: Write a function called number_of_factors that takes an integer and returns how many\n",
        "factors the number has."
      ]
    },
    {
      "cell_type": "code",
      "execution_count": 1,
      "metadata": {
        "id": "Yr2BLCXp-oTi"
      },
      "outputs": [
        {
          "data": {
            "text/plain": [
              "4"
            ]
          },
          "execution_count": 1,
          "metadata": {},
          "output_type": "execute_result"
        }
      ],
      "source": [
        "def number_of_factors(n):\n",
        "  count = 0\n",
        "  for i in range(1,n+1):\n",
        "    if n % i == 0:\n",
        "      count += 1\n",
        "  return count\n",
        "number_of_factors(15)"
      ]
    },
    {
      "cell_type": "markdown",
      "metadata": {
        "id": "7w0DDTyY-o_4"
      },
      "source": [
        "Ex4: Write a function called first_diff that is given two strings and returns the first location in\n",
        "which the strings differ. If the strings are identical, it should return -1.Ignore the case in your function. It means h and H are the same."
      ]
    },
    {
      "cell_type": "code",
      "execution_count": 2,
      "metadata": {
        "id": "1WOvaf0z-6J6"
      },
      "outputs": [],
      "source": [
        "#indentation error in calling the function\n",
        "def first_diff(s1,s2):\n",
        "  s1 = s1.lower()\n",
        "  s2 = s2.lower()\n",
        "  for i in range(min(len(s1),len(s2))):\n",
        "    if s1[i] != s2[i]:\n",
        "      return i\n",
        "    return -1\n",
        "  first_diff('Hello','hola')"
      ]
    },
    {
      "cell_type": "markdown",
      "metadata": {
        "id": "jLM8fAg_-6th"
      },
      "source": [
        "Ex5: Write a function called root that is given a number x and an integer n and returns x/n. In\n",
        "the function definition, set the default value of n to 2."
      ]
    },
    {
      "cell_type": "code",
      "execution_count": 3,
      "metadata": {
        "id": "1TrSgTDa_Fu0"
      },
      "outputs": [
        {
          "data": {
            "text/plain": [
              "8.0"
            ]
          },
          "execution_count": 3,
          "metadata": {},
          "output_type": "execute_result"
        }
      ],
      "source": [
        "def root(x,n=2):\n",
        "  return x**1/n\n",
        "root(16)\n",
        "\n",
        "#is that question ask you to do? "
      ]
    },
    {
      "cell_type": "markdown",
      "metadata": {
        "id": "SKqS4EwNzrdm"
      },
      "source": [
        "Ex6: Write a function that solves the system of equations ax + by = e and cx +dy = f. Your function should takes 6 parameters, (a, b, c, d, e,f) and return the values of x and y."
      ]
    },
    {
      "cell_type": "code",
      "execution_count": null,
      "metadata": {
        "id": "Ho_WxnwNzrdn"
      },
      "outputs": [],
      "source": []
    },
    {
      "cell_type": "markdown",
      "metadata": {
        "id": "J8I-QVpPzrdn"
      },
      "source": [
        "Ex7:  Write a function called change_case that given a string, returns a string with each upper  case letter replaced by a lower case letter and vice-versa"
      ]
    },
    {
      "cell_type": "code",
      "execution_count": null,
      "metadata": {
        "id": "U3wEB-hGzrdn"
      },
      "outputs": [],
      "source": []
    },
    {
      "cell_type": "markdown",
      "metadata": {
        "id": "i1yERwilzrdn"
      },
      "source": [
        "Ex8:  Write a function called primes that is given a number n and returns a list of the first n  primes. Let the default value of n be 100."
      ]
    },
    {
      "cell_type": "code",
      "execution_count": null,
      "metadata": {
        "id": "cluBRwaXzrdn"
      },
      "outputs": [],
      "source": []
    },
    {
      "cell_type": "markdown",
      "metadata": {
        "id": "Zbdquv0Yzrdn"
      },
      "source": [
        "Ex9: A Tic-tac-toe board can be represented be a 3×3 two-dimensional list, where zeroes stand for  empty cells, ones stand for X’s and twos stand for O’s. Write a function that is given such a list and randomly chooses a spot in which to place  a 2 (O). The spot chosen must currently be empty and a spot must be chosen."
      ]
    },
    {
      "cell_type": "code",
      "execution_count": null,
      "metadata": {
        "id": "gcGXUAcjzrdn"
      },
      "outputs": [],
      "source": []
    },
    {
      "cell_type": "markdown",
      "metadata": {
        "id": "5L1KUK2Azrdn"
      },
      "source": [
        "Ex10:  Write a function that is given a 9 × 9 potentially solved Sudoku and returns True if it is solved correctly and False if there is a mistake. The Sudoku is correctly solved if there are\n",
        " no repeated numbers in any row or any column or in any of the nine “blocks.”\n"
      ]
    },
    {
      "cell_type": "code",
      "execution_count": null,
      "metadata": {
        "id": "HstsGe6vzrdn"
      },
      "outputs": [],
      "source": []
    }
  ],
  "metadata": {
    "colab": {
      "name": "Ex5_Function.ipynb",
      "provenance": []
    },
    "kernelspec": {
      "display_name": "Python 3",
      "name": "python3"
    },
    "language_info": {
      "codemirror_mode": {
        "name": "ipython",
        "version": 3
      },
      "file_extension": ".py",
      "mimetype": "text/x-python",
      "name": "python",
      "nbconvert_exporter": "python",
      "pygments_lexer": "ipython3",
      "version": "3.12.1"
    }
  },
  "nbformat": 4,
  "nbformat_minor": 0
}
