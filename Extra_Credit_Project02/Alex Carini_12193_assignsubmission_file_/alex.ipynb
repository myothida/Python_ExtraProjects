{
 "cells": [
  {
   "cell_type": "code",
   "execution_count": 1,
   "metadata": {},
   "outputs": [
    {
     "name": "stdout",
     "output_type": "stream",
     "text": [
      "****\n",
      "****\n",
      "****\n"
     ]
    }
   ],
   "source": [
    "def rectangle(m,n):\n",
    "    for i in range(m):\n",
    "        print(n*'*')\n",
    "\n",
    "        \n",
    "rectangle(3,4)"
   ]
  },
  {
   "cell_type": "code",
   "execution_count": 2,
   "metadata": {},
   "outputs": [
    {
     "name": "stdout",
     "output_type": "stream",
     "text": [
      "323\n"
     ]
    }
   ],
   "source": [
    "import random\n",
    "def random_dig(n):\n",
    "    x = random.randint(10**(n-1), 10**n-1)\n",
    "    \n",
    "    return x\n",
    "    \n",
    "print(random_dig(3))"
   ]
  },
  {
   "cell_type": "code",
   "execution_count": 4,
   "metadata": {},
   "outputs": [
    {
     "data": {
      "text/plain": [
       "3"
      ]
     },
     "execution_count": 4,
     "metadata": {},
     "output_type": "execute_result"
    }
   ],
   "source": [
    "def number_of_factors(N):\n",
    "    factor_list = []\n",
    "    for d in range(1,N+1):\n",
    "        if(N%d ==0):\n",
    "            factor_list.append(d)\n",
    "    return len(factor_list)\n",
    "\n",
    "number_of_factors(4)"
   ]
  },
  {
   "cell_type": "code",
   "execution_count": 6,
   "metadata": {},
   "outputs": [
    {
     "name": "stdout",
     "output_type": "stream",
     "text": [
      "case 0:\n",
      "two strings are identical\n",
      "case 1: same length - diff at index 4\n",
      "case 2: diff length - diff at index 3\n",
      "case 3: diff length - diff at index 3\n",
      "case 4: same length, all diff - diff at index 0\n"
     ]
    }
   ],
   "source": [
    "## commented by Myo: this code does not return -1 for idential strings\n",
    "def first_diff(s1,s2):\n",
    "    s1 = s1.upper()\n",
    "    s2 = s2.upper()\n",
    "    if(s1==s2):\n",
    "        print('two strings are identical')\n",
    "        diff = -1\n",
    "    else:\n",
    "        diff = min(len(s1), len(s2))\n",
    "        for idx in range(min(len(s1), len(s2))):            \n",
    "            if not (s1[idx]==s2[idx]):\n",
    "                diff = idx\n",
    "                break\n",
    "    return diff         \n",
    "\n",
    "print('case 0:')\n",
    "first_diff('Hello', 'hello')\n",
    "print('case 1: same length - diff at index', first_diff('Hello', 'hellp'))\n",
    "print('case 2: diff length - diff at index', first_diff('Hel', 'hellp'))\n",
    "print('case 3: diff length - diff at index', first_diff('Hello', 'hel'))\n",
    "print('case 4: same length, all diff - diff at index', first_diff('Hello', 'arr'))"
   ]
  },
  {
   "cell_type": "code",
   "execution_count": 7,
   "metadata": {},
   "outputs": [
    {
     "name": "stdout",
     "output_type": "stream",
     "text": [
      "Error: base x must be greater than zero.\n",
      "Code is Complete here!\n",
      "Error: division by zero\n",
      "Code is Complete here!\n",
      "Error: int too large to convert to float\n",
      "Code is Complete here!\n",
      "Error: '>' not supported between instances of 'str' and 'int'\n",
      "Code is Complete here!\n"
     ]
    }
   ],
   "source": [
    "#This is not what Ex 5 asked you to do. \n",
    "def root(x=1, n=2):\n",
    "    try:    \n",
    "        assert x > 0, \"base x must be greater than zero.\"\n",
    "        result = x**(1/n)\n",
    "        return result\n",
    "    except ZeroDivisionError as e:\n",
    "        print(f'Error: {e}')\n",
    "    except TypeError as e:\n",
    "        print(f'Error: {e}')\n",
    "    except ValueError as e:\n",
    "        print(f'Error: {e}')\n",
    "    except OverflowError as e:\n",
    "        print(f'Error: {e}')\n",
    "    except AssertionError as e:\n",
    "        print(f'Error: {e}')\n",
    "    except MemoryError as e:\n",
    "        print(f'Error: {e}')\n",
    "    else:\n",
    "        print('Other Errors')\n",
    "    finally: \n",
    "        print('Code is Complete here!')\n",
    "\n",
    "\n",
    "root(-8, 3)\n",
    "root(8, 0)\n",
    "root(10**1000, 3)\n",
    "root('hello', 3)"
   ]
  },
  {
   "cell_type": "code",
   "execution_count": 8,
   "metadata": {},
   "outputs": [
    {
     "name": "stdout",
     "output_type": "stream",
     "text": [
      "x = -4.0, y = 4.5\n",
      "tEST\n"
     ]
    }
   ],
   "source": [
    "#Extra Credit Questions\n",
    "\n",
    "#Question 6:\n",
    "# comment by Myo: The answer is wrong. Chat-Gpt is not reliable in Mathematics. \n",
    "def solve_system(a, b, c, d, e, f):\n",
    "  det = a * d - b * c\n",
    "\n",
    "  if det == 0:\n",
    "        return \"The system has no unique solution.\"\n",
    "\n",
    "  x = (e * d - b * f) / det\n",
    "  y = (a * f - e * c) / det\n",
    "\n",
    "  return x, y\n",
    "x, y = solve_system(1, 2, 3, 4, 5, 6)\n",
    "print(f\"x = {x}, y = {y}\")\n",
    "\n",
    "#Question 7:\n",
    "def change_case(s):\n",
    "  return s.swapcase()\n",
    "result = change_case(\"Test\")\n",
    "print(result)\n",
    "\n",
    "#Question 8:\n",
    "# why do you need to functions? \n",
    "def is_prime(num):\n",
    "    \n",
    "    if num < 2:\n",
    "        return False\n",
    "    for i in range(2, int(num**0.5) + 1):\n",
    "        if num % i == 0:\n",
    "            return False\n",
    "    return True\n",
    "\n",
    "def primes(n=100):\n",
    "   \n",
    "    prime_list = []\n",
    "    current_num = 2  \n",
    "\n",
    "    while len(prime_list) < n:\n",
    "        if is_prime(current_num):\n",
    "            prime_list.append(current_num)\n",
    "        current_num += 1\n",
    "\n",
    "    return prime_list\n",
    "\n",
    "#Question 9:\n",
    "import random\n",
    "\n",
    "def place_O(board):\n",
    "   \n",
    "    empty_spots = [(i, j) for i in range(3) for j in range(3) if board[i][j] == 0]\n",
    "    \n",
    "    if empty_spots:\n",
    "       \n",
    "        chosen_spot = random.choice(empty_spots)\n",
    "        board[chosen_spot[0]][chosen_spot[1]] = 2 \n",
    "        return board\n",
    "    else:\n",
    "        return \"No empty spots available.\"\n",
    "\n",
    "#Question 10:\n",
    "def is_valid_sudoku(board):\n",
    "    \"\"\"Check if the given 9x9 Sudoku board is solved correctly.\"\"\"\n",
    "    def is_valid_group(group):\n",
    "        \"\"\"Check if a group (row, column, or block) contains no duplicates.\"\"\"\n",
    "        nums = [num for num in group if num != 0]\n",
    "        return len(nums) == len(set(nums))\n",
    "\n",
    "    for row in board:\n",
    "        if not is_valid_group(row):\n",
    "            return False\n",
    "\n",
    "    for col in range(9):\n",
    "        if not is_valid_group([board[row][col] for row in range(9)]):\n",
    "            return False\n",
    "\n",
    "    for block_row in range(3):\n",
    "        for block_col in range(3):\n",
    "            block = [board[row][col]\n",
    "                     for row in range(block_row * 3, block_row * 3 + 3)\n",
    "                     for col in range(block_col * 3, block_col * 3 + 3)]\n",
    "            if not is_valid_group(block):\n",
    "                return False\n",
    "\n",
    "    return True\n"
   ]
  },
  {
   "cell_type": "code",
   "execution_count": 17,
   "metadata": {},
   "outputs": [
    {
     "data": {
      "text/plain": [
       "False"
      ]
     },
     "execution_count": 17,
     "metadata": {},
     "output_type": "execute_result"
    }
   ],
   "source": [
    "import random\n",
    "\n",
    "def generate_random_sudoku():\n",
    "    \"\"\"Generate a 9x9 board filled with random numbers from 1 to 9.\"\"\"\n",
    "    board = [[random.randint(1, 9) for _ in range(9)] for _ in range(9)]\n",
    "    return board\n",
    "\n",
    "\n",
    "\n",
    "is_valid_sudoku(generate_random_sudoku())"
   ]
  },
  {
   "cell_type": "code",
   "execution_count": 20,
   "metadata": {},
   "outputs": [
    {
     "data": {
      "text/plain": [
       "[2, 3, 5, 7, 11, 13, 17, 19, 23]"
      ]
     },
     "execution_count": 20,
     "metadata": {},
     "output_type": "execute_result"
    }
   ],
   "source": [
    "primes(9)"
   ]
  }
 ],
 "metadata": {
  "kernelspec": {
   "display_name": "Python 3",
   "language": "python",
   "name": "python3"
  },
  "language_info": {
   "codemirror_mode": {
    "name": "ipython",
    "version": 3
   },
   "file_extension": ".py",
   "mimetype": "text/x-python",
   "name": "python",
   "nbconvert_exporter": "python",
   "pygments_lexer": "ipython3",
   "version": "3.12.1"
  }
 },
 "nbformat": 4,
 "nbformat_minor": 2
}
