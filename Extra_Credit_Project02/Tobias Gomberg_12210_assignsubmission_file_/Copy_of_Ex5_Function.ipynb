{
  "cells": [
    {
      "cell_type": "markdown",
      "metadata": {
        "id": "b-1b6ywy-O5i"
      },
      "source": [
        "Exercises are taken from : https://www.brianheinold.net/python/A_Practical_Introduction_to_Python_Programming_Heinold.pdf\n"
      ]
    },
    {
      "cell_type": "markdown",
      "metadata": {
        "id": "pps5xBbs-I9w"
      },
      "source": [
        "Ex 1: Write a function called rectangle that takes two integers m and n as arguments and prints\n",
        "out an m× n box consisting of asterisks. Shown below is the output of rectangle(2,4)\n",
        "****\n",
        "****"
      ]
    },
    {
      "cell_type": "code",
      "execution_count": 1,
      "metadata": {
        "colab": {
          "base_uri": "https://localhost:8080/"
        },
        "id": "S_5WWVLH3u8y",
        "outputId": "ffe335dc-5667-4695-92ee-a86c54e183e4"
      },
      "outputs": [
        {
          "name": "stdout",
          "output_type": "stream",
          "text": [
            "***\n",
            "***\n",
            "***\n",
            "***\n",
            "***\n"
          ]
        }
      ],
      "source": [
        "def rectangle(m, n):\n",
        "  \"\"\"rectangle takes in two integers and prints a number of lines equal to the first amount each with asterisks equal to the second amount\n",
        "  args are m, and n, m is number of lines and n is number of asterisls ber line\"\"\"\n",
        "  while m > 0:\n",
        "      m -= 1\n",
        "      j = n\n",
        "      while j > 0:\n",
        "        j -= 1\n",
        "        print(\"*\", sep=\"\", end=\"\")\n",
        "      print(\"\")\n",
        "\n",
        "rectangle(5, 3)"
      ]
    },
    {
      "cell_type": "markdown",
      "metadata": {
        "id": "0QS7SmPV-coO"
      },
      "source": [
        "Ex 2: Write a function that takes an integer n and returns a random integer with exactly n digits. For\n",
        "instance, if n is 3, then 125 and 593 would be valid return values, but 093 would not because\n",
        "that is really 93, which is a two-digit number."
      ]
    },
    {
      "cell_type": "code",
      "execution_count": 2,
      "metadata": {
        "colab": {
          "base_uri": "https://localhost:8080/"
        },
        "id": "c4ejnmGJ-MzL",
        "outputId": "6579cbaf-f341-4077-b103-00adf7bfc17d"
      },
      "outputs": [
        {
          "ename": "TypeError",
          "evalue": "'float' object cannot be interpreted as an integer",
          "output_type": "error",
          "traceback": [
            "\u001b[1;31m---------------------------------------------------------------------------\u001b[0m",
            "\u001b[1;31mTypeError\u001b[0m                                 Traceback (most recent call last)",
            "Cell \u001b[1;32mIn[2], line 9\u001b[0m\n\u001b[0;32m      7\u001b[0m   d \u001b[38;5;241m=\u001b[39m random\u001b[38;5;241m.\u001b[39mrandint(math\u001b[38;5;241m.\u001b[39mpow(\u001b[38;5;241m10\u001b[39m, n\u001b[38;5;241m-\u001b[39m\u001b[38;5;241m1\u001b[39m), (math\u001b[38;5;241m.\u001b[39mpow(\u001b[38;5;241m10\u001b[39m, n) \u001b[38;5;241m-\u001b[39m\u001b[38;5;241m1\u001b[39m))\n\u001b[0;32m      8\u001b[0m   \u001b[38;5;28;01mreturn\u001b[39;00m d\n\u001b[1;32m----> 9\u001b[0m \u001b[43midk\u001b[49m\u001b[43m(\u001b[49m\u001b[38;5;241;43m1\u001b[39;49m\u001b[43m)\u001b[49m\n",
            "Cell \u001b[1;32mIn[2], line 7\u001b[0m, in \u001b[0;36midk\u001b[1;34m(n)\u001b[0m\n\u001b[0;32m      3\u001b[0m \u001b[38;5;28;01mdef\u001b[39;00m \u001b[38;5;21midk\u001b[39m(n):\n\u001b[0;32m      4\u001b[0m \u001b[38;5;250m  \u001b[39m\u001b[38;5;124;03m\"\"\"idk takes a integer and then returns a number with n many digits\u001b[39;00m\n\u001b[0;32m      5\u001b[0m \u001b[38;5;124;03m  args n, number of digits\u001b[39;00m\n\u001b[0;32m      6\u001b[0m \u001b[38;5;124;03m  returns d, the final number\"\"\"\u001b[39;00m\n\u001b[1;32m----> 7\u001b[0m   d \u001b[38;5;241m=\u001b[39m \u001b[43mrandom\u001b[49m\u001b[38;5;241;43m.\u001b[39;49m\u001b[43mrandint\u001b[49m\u001b[43m(\u001b[49m\u001b[43mmath\u001b[49m\u001b[38;5;241;43m.\u001b[39;49m\u001b[43mpow\u001b[49m\u001b[43m(\u001b[49m\u001b[38;5;241;43m10\u001b[39;49m\u001b[43m,\u001b[49m\u001b[43m \u001b[49m\u001b[43mn\u001b[49m\u001b[38;5;241;43m-\u001b[39;49m\u001b[38;5;241;43m1\u001b[39;49m\u001b[43m)\u001b[49m\u001b[43m,\u001b[49m\u001b[43m \u001b[49m\u001b[43m(\u001b[49m\u001b[43mmath\u001b[49m\u001b[38;5;241;43m.\u001b[39;49m\u001b[43mpow\u001b[49m\u001b[43m(\u001b[49m\u001b[38;5;241;43m10\u001b[39;49m\u001b[43m,\u001b[49m\u001b[43m \u001b[49m\u001b[43mn\u001b[49m\u001b[43m)\u001b[49m\u001b[43m \u001b[49m\u001b[38;5;241;43m-\u001b[39;49m\u001b[38;5;241;43m1\u001b[39;49m\u001b[43m)\u001b[49m\u001b[43m)\u001b[49m\n\u001b[0;32m      8\u001b[0m   \u001b[38;5;28;01mreturn\u001b[39;00m d\n",
            "File \u001b[1;32mc:\\Users\\mthida\\AppData\\Local\\Programs\\Python\\Python312\\Lib\\random.py:336\u001b[0m, in \u001b[0;36mRandom.randint\u001b[1;34m(self, a, b)\u001b[0m\n\u001b[0;32m    332\u001b[0m \u001b[38;5;28;01mdef\u001b[39;00m \u001b[38;5;21mrandint\u001b[39m(\u001b[38;5;28mself\u001b[39m, a, b):\n\u001b[0;32m    333\u001b[0m \u001b[38;5;250m    \u001b[39m\u001b[38;5;124;03m\"\"\"Return random integer in range [a, b], including both end points.\u001b[39;00m\n\u001b[0;32m    334\u001b[0m \u001b[38;5;124;03m    \"\"\"\u001b[39;00m\n\u001b[1;32m--> 336\u001b[0m     \u001b[38;5;28;01mreturn\u001b[39;00m \u001b[38;5;28;43mself\u001b[39;49m\u001b[38;5;241;43m.\u001b[39;49m\u001b[43mrandrange\u001b[49m\u001b[43m(\u001b[49m\u001b[43ma\u001b[49m\u001b[43m,\u001b[49m\u001b[43m \u001b[49m\u001b[43mb\u001b[49m\u001b[38;5;241;43m+\u001b[39;49m\u001b[38;5;241;43m1\u001b[39;49m\u001b[43m)\u001b[49m\n",
            "File \u001b[1;32mc:\\Users\\mthida\\AppData\\Local\\Programs\\Python\\Python312\\Lib\\random.py:301\u001b[0m, in \u001b[0;36mRandom.randrange\u001b[1;34m(self, start, stop, step)\u001b[0m\n\u001b[0;32m    292\u001b[0m \u001b[38;5;250m\u001b[39m\u001b[38;5;124;03m\"\"\"Choose a random item from range(stop) or range(start, stop[, step]).\u001b[39;00m\n\u001b[0;32m    293\u001b[0m \n\u001b[0;32m    294\u001b[0m \u001b[38;5;124;03mRoughly equivalent to ``choice(range(start, stop, step))`` but\u001b[39;00m\n\u001b[0;32m    295\u001b[0m \u001b[38;5;124;03msupports arbitrarily large ranges and is optimized for common cases.\u001b[39;00m\n\u001b[0;32m    296\u001b[0m \n\u001b[0;32m    297\u001b[0m \u001b[38;5;124;03m\"\"\"\u001b[39;00m\n\u001b[0;32m    299\u001b[0m \u001b[38;5;66;03m# This code is a bit messy to make it fast for the\u001b[39;00m\n\u001b[0;32m    300\u001b[0m \u001b[38;5;66;03m# common case while still doing adequate error checking.\u001b[39;00m\n\u001b[1;32m--> 301\u001b[0m istart \u001b[38;5;241m=\u001b[39m \u001b[43m_index\u001b[49m\u001b[43m(\u001b[49m\u001b[43mstart\u001b[49m\u001b[43m)\u001b[49m\n\u001b[0;32m    302\u001b[0m \u001b[38;5;28;01mif\u001b[39;00m stop \u001b[38;5;129;01mis\u001b[39;00m \u001b[38;5;28;01mNone\u001b[39;00m:\n\u001b[0;32m    303\u001b[0m     \u001b[38;5;66;03m# We don't check for \"step != 1\" because it hasn't been\u001b[39;00m\n\u001b[0;32m    304\u001b[0m     \u001b[38;5;66;03m# type checked and converted to an integer yet.\u001b[39;00m\n\u001b[0;32m    305\u001b[0m     \u001b[38;5;28;01mif\u001b[39;00m step \u001b[38;5;129;01mis\u001b[39;00m \u001b[38;5;129;01mnot\u001b[39;00m _ONE:\n",
            "\u001b[1;31mTypeError\u001b[0m: 'float' object cannot be interpreted as an integer"
          ]
        }
      ],
      "source": [
        "import random\n",
        "import math\n",
        "def idk(n):\n",
        "  \"\"\"idk takes a integer and then returns a number with n many digits\n",
        "  args n, number of digits\n",
        "  returns d, the final number\"\"\"\n",
        "  d = random.randint(math.pow(10, n-1), (math.pow(10, n) -1))\n",
        "  return d\n",
        "idk(1) #math.pow returns a float"
      ]
    },
    {
      "cell_type": "markdown",
      "metadata": {
        "id": "B0P_F5Ld-ldg"
      },
      "source": [
        "Ex 3: Write a function called number_of_factors that takes an integer and returns how many\n",
        "factors the number has."
      ]
    },
    {
      "cell_type": "code",
      "execution_count": 5,
      "metadata": {
        "colab": {
          "base_uri": "https://localhost:8080/"
        },
        "id": "Yr2BLCXp-oTi",
        "outputId": "f72cfeb0-22d8-4f99-a096-92bac0165646"
      },
      "outputs": [
        {
          "name": "stdout",
          "output_type": "stream",
          "text": [
            "2\n"
          ]
        }
      ],
      "source": [
        "\n",
        "def number_of_factors(n):\n",
        "  \"\"\"number of factors takes an argument n and finds how many factors it has by dividing it by all possible factors\n",
        "  args, n the number to find the factors of\n",
        "  returns the number of factors \"\"\"\n",
        "  f1=n\n",
        "  fn=0\n",
        "  while f1 > 0:\n",
        "    if (n/f1) == int(n/f1):\n",
        "      fn +=1\n",
        "    f1 -=1\n",
        "  print(fn)\n",
        "\n",
        "number_of_factors(13)\n",
        "\n"
      ]
    },
    {
      "cell_type": "markdown",
      "metadata": {
        "id": "7w0DDTyY-o_4"
      },
      "source": [
        "Ex4: Write a function called first_diff that is given two strings and returns the first location in\n",
        "which the strings differ. If the strings are identical, it should return -1.Ignore the case in your function. It means h and H are the same."
      ]
    },
    {
      "cell_type": "code",
      "execution_count": 111,
      "metadata": {
        "colab": {
          "base_uri": "https://localhost:8080/"
        },
        "id": "1WOvaf0z-6J6",
        "outputId": "f4bb26bc-fc0b-42eb-a49e-bbeefc8cd101"
      },
      "outputs": [
        {
          "data": {
            "text/plain": [
              "10"
            ]
          },
          "execution_count": 111,
          "metadata": {},
          "output_type": "execute_result"
        }
      ],
      "source": [
        "def first_diff(s1, s2):\n",
        "  #syntax errors\n",
        "  \"\"\"first_diff takes two strings and converts them to uppercase then checks to see if they are the same if not it checks where\n",
        "  the two strings differ or if they differ if one is longer than the other\n",
        "  args, s1 is the first string, s2 is the secon string\n",
        "  returns -1 if the strings are the same when made uppercase, returns the index value of where the strings differ if they differ, and returns the min length of the strings\n",
        "  +1 if they only differ because one ends\"\"\"\n",
        " S1 = s1.upper()\n",
        " S2 = s2.upper()\n",
        " islendiff = 0\n",
        " for index in range(min(len(S1), len(S2))):\n",
        "    if S1 == S2:\n",
        "      return -1\n",
        "    if S1[index] != S2[index]:\n",
        "      islendiff = 1\n",
        "      return index\n",
        " if islendiff == 0:\n",
        "    return min(len(S1), len(S2))+1\n",
        "\n",
        "\n",
        "\n",
        "first_diff(\"Hel9loo9o\",\"hel9loo9o99\")"
      ]
    },
    {
      "cell_type": "markdown",
      "metadata": {
        "id": "jLM8fAg_-6th"
      },
      "source": [
        "Ex5: Write a function called root that is given a number x and an integer n and returns x/n. In\n",
        "the function definition, set the default value of n to 2."
      ]
    },
    {
      "cell_type": "code",
      "execution_count": 76,
      "metadata": {
        "colab": {
          "base_uri": "https://localhost:8080/"
        },
        "id": "1TrSgTDa_Fu0",
        "outputId": "f9eaadb6-16e1-450a-ce14-20c96afeb8fb"
      },
      "outputs": [
        {
          "data": {
            "text/plain": [
              "1.0"
            ]
          },
          "execution_count": 76,
          "metadata": {},
          "output_type": "execute_result"
        }
      ],
      "source": [
        "def root(x, n=2):\n",
        "  \"\"\"root takes a number x and divides it by a number n set to the default of zero\n",
        "  args, x, the qouteint, n the denominator\n",
        "  returns x/n\"\"\"\n",
        "  return x/n\n",
        "root(15, 15)"
      ]
    },
    {
      "cell_type": "markdown",
      "metadata": {
        "id": "mjw8CGyji7LJ"
      },
      "source": [
        "Ex6: Write a function that solves the system of equations ax + by = e and cx +dy = f. Your function should takes 6 parameters, (a, b, c, d, e,f) and return the values of x and y."
      ]
    },
    {
      "cell_type": "code",
      "execution_count": null,
      "metadata": {
        "id": "sksVJofZzPb9"
      },
      "outputs": [],
      "source": [
        "\"\"\"i thought i did this one but i geuss i either slkipped it or forgot to save and i dont heve enough time or motivation to redo it\"\"\""
      ]
    },
    {
      "cell_type": "markdown",
      "metadata": {
        "id": "1QBv8DByi7LK"
      },
      "source": []
    },
    {
      "cell_type": "markdown",
      "metadata": {
        "id": "iV2w4Bdhi7LK"
      },
      "source": [
        "Ex7:  Write a function called change_case that given a string, returns a string with each upper  case letter replaced by a lower case letter and vice-versa"
      ]
    },
    {
      "cell_type": "code",
      "execution_count": 116,
      "metadata": {
        "colab": {
          "base_uri": "https://localhost:8080/",
          "height": 36
        },
        "id": "CrpBrNH6i7LK",
        "outputId": "b1160525-c5ac-4c32-8abe-4ef69e0abf3a"
      },
      "outputs": [
        {
          "data": {
            "application/vnd.google.colaboratory.intrinsic+json": {
              "type": "string"
            },
            "text/plain": [
              "'hELLO wORLD'"
            ]
          },
          "execution_count": 116,
          "metadata": {},
          "output_type": "execute_result"
        }
      ],
      "source": [
        "def change_case(strrr):\n",
        "  \"\"\"change_case switches the cases of a string\n",
        "  args, strrr the string to switch\n",
        "  returns strrr2 the new string after swapcase\"\"\"\n",
        " strrr2 = strrr.swapcase()\n",
        " return strrr2\n",
        "change_case(\"Hello World\")"
      ]
    },
    {
      "cell_type": "markdown",
      "metadata": {
        "id": "hZ6kx6q0i7LK"
      },
      "source": [
        "Ex8:  Write a function called primes that is given a number n and returns a list of the first n  primes. Let the default value of n be 100."
      ]
    },
    {
      "cell_type": "code",
      "execution_count": 147,
      "metadata": {
        "colab": {
          "base_uri": "https://localhost:8080/"
        },
        "id": "ofpShFZTCD8_",
        "outputId": "b8ed7744-69ef-47f3-c609-40263930e356"
      },
      "outputs": [
        {
          "name": "stdout",
          "output_type": "stream",
          "text": [
            "2\n",
            "3\n",
            "5\n",
            "7\n",
            "11\n",
            "13\n",
            "17\n",
            "19\n",
            "23\n",
            "29\n",
            "31\n",
            "37\n",
            "41\n",
            "43\n",
            "47\n",
            "53\n",
            "59\n",
            "61\n",
            "67\n",
            "71\n",
            "73\n",
            "79\n",
            "83\n",
            "89\n",
            "97\n",
            "101\n",
            "103\n",
            "107\n",
            "109\n",
            "113\n",
            "127\n",
            "131\n",
            "137\n",
            "139\n",
            "149\n",
            "151\n",
            "157\n",
            "163\n",
            "167\n",
            "173\n",
            "179\n",
            "181\n",
            "191\n",
            "193\n",
            "197\n",
            "199\n",
            "211\n",
            "223\n",
            "227\n",
            "229\n",
            "233\n",
            "239\n",
            "241\n",
            "251\n",
            "257\n",
            "263\n",
            "269\n",
            "271\n",
            "277\n",
            "281\n",
            "283\n",
            "293\n",
            "307\n",
            "311\n",
            "313\n",
            "317\n",
            "331\n",
            "337\n",
            "347\n",
            "349\n",
            "353\n",
            "359\n",
            "367\n",
            "373\n",
            "379\n",
            "383\n",
            "389\n",
            "397\n",
            "401\n",
            "409\n",
            "419\n",
            "421\n",
            "431\n",
            "433\n",
            "439\n",
            "443\n",
            "449\n",
            "457\n",
            "461\n",
            "463\n",
            "467\n",
            "479\n",
            "487\n",
            "491\n",
            "499\n",
            "503\n",
            "509\n",
            "521\n",
            "523\n",
            "541\n"
          ]
        }
      ],
      "source": [
        "def primes(n=100):\n",
        "  \"\"\"primes takes a number n with defualt value 100 and finds primes by finding all the facots of a number\n",
        "  and printing it if it is prime (has two factrors), then stops once n primes have been gfound\n",
        "  args n, the number of primes to find\n",
        "  returns the first n prime numbers\"\"\"\n",
        "  prime = 0\n",
        "  pn = 0\n",
        "  while prime < n:\n",
        "    fs = 0\n",
        "    fn = pn\n",
        "    while fn > 0:\n",
        "      if (pn/fn) == int(pn/fn):\n",
        "        fs +=1\n",
        "      fn -=1\n",
        "    if fs == 2:\n",
        "      prime +=1\n",
        "      print(pn)\n",
        "    pn+=1\n",
        "primes()"
      ]
    },
    {
      "cell_type": "markdown",
      "metadata": {
        "id": "Z2NhlLZNi7LK"
      },
      "source": []
    },
    {
      "cell_type": "markdown",
      "metadata": {
        "id": "-QvtVcERi7LK"
      },
      "source": [
        "Ex9: ATic-tac-toe board can be represented be a 3×3 two-dimensional list, where zeroes stand for  empty cells, ones stand for X’s and twos stand for O’s. Write a function that is given such a list and randomly chooses a spot in which to place  a 2 (O). The spot chosen must currently be empty and a spot must be chosen."
      ]
    },
    {
      "cell_type": "code",
      "execution_count": 211,
      "metadata": {
        "colab": {
          "base_uri": "https://localhost:8080/"
        },
        "id": "JuYUfFVqi7LL",
        "outputId": "d11ccac0-3423-4fc3-e111-c1b7853fa496"
      },
      "outputs": [
        {
          "name": "stdout",
          "output_type": "stream",
          "text": [
            "[2, 0, 0]\n",
            "[0, 0, 0]\n",
            "[0, 0, 0]\n",
            "[2, 0, 0]\n",
            "[0, 0, 2]\n",
            "[0, 0, 0]\n",
            "[2, 0, 2]\n",
            "[0, 0, 2]\n",
            "[0, 0, 0]\n",
            "[2, 0, 2]\n",
            "[0, 0, 2]\n",
            "[0, 0, 0]\n",
            "[2, 0, 2]\n",
            "[2, 0, 2]\n",
            "[0, 0, 0]\n"
          ]
        }
      ],
      "source": [
        "def tictactoe():\n",
        "  \"\"\"ticatactoe puts a 2 in a random spot among nine 0s\n",
        "  no args\n",
        "  returns a 3x3 two dimensional list with 8 os and a two in a random spot\n",
        "  (sorry if i did this one incorrectly, i didnt really undesrstsnd if the you wanted me to make somehting that could repeat or just do what the question literally asls and make\n",
        "  something that only happens once on an empty board. i could have done the other, but this is how i interpreted the question.)\"\"\"\n",
        "  import random\n",
        "  board = [[0,0,0],[0,0,0],[0,0,0]]\n",
        "    randoma = random.randint(0,2)\n",
        "    randomb = random.randint(0,2)\n",
        "    board[randoma][randomb] = 2\n",
        "    print(\"\\n\".join(str(row) for row in board))\n",
        "tictactoe()\n"
      ]
    },
    {
      "cell_type": "markdown",
      "metadata": {
        "id": "pzkzNZEOi7LL"
      },
      "source": [
        "Ex10:  Write a function that is given a 9 × 9 potentially solved Sudoku and returns True if it is solved correctly and False if there is a mistake. The Sudoku is correctly solved if there are\n",
        " no repeated numbers in any row or any column or in any of the nine “blocks.”\n"
      ]
    },
    {
      "cell_type": "code",
      "execution_count": null,
      "metadata": {
        "id": "eVQC2slszkfO"
      },
      "outputs": [],
      "source": [
        "\"\"\"\"i just dont want to do this one\"\"\""
      ]
    },
    {
      "cell_type": "markdown",
      "metadata": {
        "id": "tHBtC-POzkCn"
      },
      "source": []
    }
  ],
  "metadata": {
    "colab": {
      "provenance": []
    },
    "kernelspec": {
      "display_name": "Python 3",
      "name": "python3"
    },
    "language_info": {
      "codemirror_mode": {
        "name": "ipython",
        "version": 3
      },
      "file_extension": ".py",
      "mimetype": "text/x-python",
      "name": "python",
      "nbconvert_exporter": "python",
      "pygments_lexer": "ipython3",
      "version": "3.12.1"
    }
  },
  "nbformat": 4,
  "nbformat_minor": 0
}
