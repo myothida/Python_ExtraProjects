{
  "cells": [
    {
      "cell_type": "markdown",
      "metadata": {
        "id": "view-in-github"
      },
      "source": [
        "<a href=\"https://colab.research.google.com/github/myothida/PythonProgramming/blob/main/Ex5_Function.ipynb\" target=\"_parent\"><img src=\"https://colab.research.google.com/assets/colab-badge.svg\" alt=\"Open In Colab\"/></a>"
      ]
    },
    {
      "cell_type": "markdown",
      "metadata": {
        "id": "b-1b6ywy-O5i"
      },
      "source": [
        "Exercises are taken from : https://www.brianheinold.net/python/A_Practical_Introduction_to_Python_Programming_Heinold.pdf\n"
      ]
    },
    {
      "cell_type": "markdown",
      "metadata": {
        "id": "pps5xBbs-I9w"
      },
      "source": [
        "Ex 1: Write a function called rectangle that takes two integers m and n as arguments and prints\n",
        "out an m× n box consisting of asterisks. Shown below is the output of rectangle(2,4)\n",
        "****\n",
        "****"
      ]
    },
    {
      "cell_type": "code",
      "execution_count": null,
      "metadata": {
        "colab": {
          "base_uri": "https://localhost:8080/"
        },
        "id": "S_5WWVLH3u8y",
        "outputId": "8d98be4d-7338-4694-a366-aa044cf8cc0e"
      },
      "outputs": [
        {
          "name": "stdout",
          "output_type": "stream",
          "text": [
            "****\n",
            "****\n"
          ]
        }
      ],
      "source": [
        "def rectangle(m, n):\n",
        "    \"\"\"\n",
        "    Print an m x n rectangle using asterisks.\n",
        "\n",
        "    Parameters:\n",
        "    m (int): The number of rows in the rectangle.\n",
        "    n (int): The number of columns in the rectangle.\n",
        "\n",
        "    Returns:\n",
        "    None\n",
        "    \"\"\"\n",
        "    for _ in range(m):\n",
        "        print('*' * n)\n",
        "\n",
        "rectangle(2, 4)"
      ]
    },
    {
      "cell_type": "markdown",
      "metadata": {
        "id": "0QS7SmPV-coO"
      },
      "source": [
        "Ex 2: Write a function that takes an integer n and returns a random integer with exactly n digits. For\n",
        "instance, if n is 3, then 125 and 593 would be valid return values, but 093 would not because\n",
        "that is really 93, which is a two-digit number."
      ]
    },
    {
      "cell_type": "code",
      "execution_count": null,
      "metadata": {
        "colab": {
          "base_uri": "https://localhost:8080/"
        },
        "id": "c4ejnmGJ-MzL",
        "outputId": "834e72fe-b896-4db6-ebb7-579c5a94348b"
      },
      "outputs": [
        {
          "name": "stdout",
          "output_type": "stream",
          "text": [
            "621\n"
          ]
        }
      ],
      "source": [
        "import random\n",
        "\n",
        "def random_n_digit_integer(n):\n",
        "    \"\"\"\n",
        "    Generates a random integer with exactly n digits.\n",
        "\n",
        "    Parameters:\n",
        "    n (int): The number of digits for the random integer.\n",
        "\n",
        "    Returns:\n",
        "    int: A random integer with exactly n digits.\n",
        "\n",
        "    \"\"\"\n",
        "    if n <= 0:\n",
        "        raise ValueError(\"n must be a positive integer.\")\n",
        "\n",
        "\n",
        "    lower_bound = 10 ** (n - 1)\n",
        "\n",
        "    upper_bound = 10 ** n - 1\n",
        "\n",
        "    return random.randint(lower_bound, upper_bound)\n",
        "\n",
        "\n",
        "print(random_n_digit_integer(3))"
      ]
    },
    {
      "cell_type": "markdown",
      "metadata": {
        "id": "B0P_F5Ld-ldg"
      },
      "source": [
        "Ex 3: Write a function called number_of_factors that takes an integer and returns how many\n",
        "factors the number has."
      ]
    },
    {
      "cell_type": "code",
      "execution_count": 1,
      "metadata": {
        "colab": {
          "base_uri": "https://localhost:8080/"
        },
        "id": "Yr2BLCXp-oTi",
        "outputId": "6d47e7e2-d551-465a-fd89-a58f93e74395"
      },
      "outputs": [
        {
          "name": "stdout",
          "output_type": "stream",
          "text": [
            "2\n"
          ]
        }
      ],
      "source": [
        "def number_of_factors(n):\n",
        "    \"\"\"\n",
        "    Calculate the number of factors of a given positive integer.\n",
        "\n",
        "    Parameters:\n",
        "    n (int): A positive integer for which the factors will be counted.\n",
        "\n",
        "    Returns:\n",
        "    int: The total number of factors of n.\n",
        "\n",
        "    Example:\n",
        "    >>> number_of_factors(12)\n",
        "    6\n",
        "    \"\"\"\n",
        "    if n <= 0:\n",
        "        raise ValueError(\"n must be a positive integer.\")\n",
        "\n",
        "    count = 0\n",
        "    for i in range(1, n + 1):\n",
        "        if n % i == 0:\n",
        "            count += 1\n",
        "\n",
        "    return count\n",
        "\n",
        "print(number_of_factors(3))"
      ]
    },
    {
      "cell_type": "markdown",
      "metadata": {
        "id": "7w0DDTyY-o_4"
      },
      "source": [
        "Ex4: Write a function called first_diff that is given two strings and returns the first location in\n",
        "which the strings differ. If the strings are identical, it should return -1.Ignore the case in your function. It means h and H are the same."
      ]
    },
    {
      "cell_type": "code",
      "execution_count": 3,
      "metadata": {
        "colab": {
          "base_uri": "https://localhost:8080/"
        },
        "id": "1WOvaf0z-6J6",
        "outputId": "e01721f6-cffd-447c-907e-fe9491bc5bd9"
      },
      "outputs": [
        {
          "name": "stdout",
          "output_type": "stream",
          "text": [
            "1\n"
          ]
        }
      ],
      "source": [
        "def first_diff(str1, str2):\n",
        "    \"\"\"\n",
        "    Find the first index at which two strings differ, ignoring case.\n",
        "\n",
        "    Parameters:\n",
        "    str1 (str): The first string.\n",
        "    str2 (str): The second string.\n",
        "\n",
        "    Returns:\n",
        "    int: The index of the first differing character, or -1 if the strings are identical.\n",
        "    \"\"\"\n",
        "\n",
        "    str1_lower = str1.lower()\n",
        "    str2_lower = str2.lower()\n",
        "\n",
        "\n",
        "    min_length = min(len(str1_lower), len(str2_lower))\n",
        "\n",
        "    for i in range(min_length):\n",
        "        if str1_lower[i] != str2_lower[i]:\n",
        "            return i\n",
        "\n",
        "\n",
        "    if len(str1_lower) != len(str2_lower):\n",
        "        return min_length\n",
        "\n",
        "    return -1\n",
        "\n",
        "\n",
        "print(first_diff(\"Hello\", \"h\"))"
      ]
    },
    {
      "cell_type": "markdown",
      "metadata": {
        "id": "jLM8fAg_-6th"
      },
      "source": [
        "Ex5: Write a function called root that is given a number x and an integer n and returns x/n. In\n",
        "the function definition, set the default value of n to 2."
      ]
    },
    {
      "cell_type": "code",
      "execution_count": null,
      "metadata": {
        "colab": {
          "base_uri": "https://localhost:8080/"
        },
        "id": "1TrSgTDa_Fu0",
        "outputId": "9961de4e-dc23-4644-efdc-dc00b7fab50c"
      },
      "outputs": [
        {
          "name": "stdout",
          "output_type": "stream",
          "text": [
            "8.0\n"
          ]
        }
      ],
      "source": [
        "def root(x, n=2):\n",
        "    \"\"\"\n",
        "    Calculate the n-th root of a number x.\n",
        "\n",
        "    Parameters:\n",
        "    x (float): The number to find the root of.\n",
        "    n (int, optional): The degree of the root. Default is 2.\n",
        "\n",
        "    Returns:\n",
        "    float: The n-th root of x.\n",
        "    \"\"\"\n",
        "    if n <= 0:\n",
        "        raise ValueError(\"n must be a positive integer.\")\n",
        "    if x < 0 and n % 2 == 0:\n",
        "        raise ValueError(\"Cannot compute the even root of a negative number.\")\n",
        "\n",
        "    return x ** (1 / n)\n",
        "\n",
        "print(root(64))\n",
        "\n",
        "#is that what question asked you?"
      ]
    },
    {
      "cell_type": "markdown",
      "metadata": {
        "id": "CLjUOQ4nwQE5"
      },
      "source": [
        "Ex6: Write a function that solves the system of equations ax + by = e and cx +dy = f. Your function should takes 4 parameters, (a, b, c, d, e,f) and return the values of x and y."
      ]
    },
    {
      "cell_type": "code",
      "execution_count": null,
      "metadata": {
        "id": "nrGZF81If-VH"
      },
      "outputs": [],
      "source": []
    },
    {
      "cell_type": "markdown",
      "metadata": {
        "id": "_16_v6WMwQE5"
      },
      "source": []
    },
    {
      "cell_type": "markdown",
      "metadata": {
        "id": "6BgROj2WwQE6"
      },
      "source": [
        "Ex7:  Write a function called change_case that given a string, returns a string with each upper  case letter replaced by a lower case letter and vice-versa"
      ]
    },
    {
      "cell_type": "code",
      "execution_count": 13,
      "metadata": {
        "colab": {
          "base_uri": "https://localhost:8080/"
        },
        "id": "X_jqIkQLwQE6",
        "outputId": "bf98d2d9-47ff-4f54-89a3-4f61c5bb5846"
      },
      "outputs": [
        {
          "name": "stdout",
          "output_type": "stream",
          "text": [
            "Enter the text you want to change the case of: nla\n",
            "Changed case: NLA\n"
          ]
        }
      ],
      "source": [
        "def change_case(s):\n",
        "    \"\"\"\n",
        "    Changes the case of each letter in the input string.\n",
        "\n",
        "    Parameters:\n",
        "    s (str): The input string to change the case of.\n",
        "\n",
        "    Returns:\n",
        "    str: A new string with uppercase letters converted to lowercase\n",
        "         and lowercase letters converted to uppercase.\n",
        "    \"\"\"\n",
        "    return s.swapcase()\n",
        "\n",
        "Statement_input = input(\"Enter the text you want to change the case of: \")\n",
        "result = change_case(Statement_input)\n",
        "print(\"Changed case:\", result)"
      ]
    },
    {
      "cell_type": "markdown",
      "metadata": {
        "id": "2DZWVSj4wQE6"
      },
      "source": [
        "Ex8:  Write a function called primes that is given a number n and returns a list of the first n  primes. Let the default value of n be 100."
      ]
    },
    {
      "cell_type": "code",
      "execution_count": null,
      "metadata": {
        "id": "PzQMKWtO7eO4"
      },
      "outputs": [],
      "source": []
    },
    {
      "cell_type": "markdown",
      "metadata": {
        "id": "j_AOV48BwQE6"
      },
      "source": []
    },
    {
      "cell_type": "markdown",
      "metadata": {
        "id": "5p7WBVM-wQE6"
      },
      "source": [
        "Ex9: ATic-tac-toe board can be represented be a 3×3 two-dimensional list, where zeroes stand for  empty cells, ones stand for X’s and twos stand for O’s. Write a function that is given such a list and randomly chooses a spot in which to place  a 2 (O). The spot chosen must currently be empty and a spot must be chosen."
      ]
    },
    {
      "cell_type": "code",
      "execution_count": null,
      "metadata": {
        "id": "dp0TO9zRwQE7"
      },
      "outputs": [],
      "source": []
    },
    {
      "cell_type": "markdown",
      "metadata": {
        "id": "aVgOuaKuwQE7"
      },
      "source": [
        "Ex10:  Write a function that is given a 9 × 9 potentially solved Sudoku and returns True if it is solved correctly and False if there is a mistake. The Sudoku is correctly solved if there are\n",
        " no repeated numbers in any row or any column or in any of the nine “blocks.”\n"
      ]
    }
  ],
  "metadata": {
    "colab": {
      "provenance": []
    },
    "kernelspec": {
      "display_name": "Python 3",
      "name": "python3"
    },
    "language_info": {
      "codemirror_mode": {
        "name": "ipython",
        "version": 3
      },
      "file_extension": ".py",
      "mimetype": "text/x-python",
      "name": "python",
      "nbconvert_exporter": "python",
      "pygments_lexer": "ipython3",
      "version": "3.12.1"
    }
  },
  "nbformat": 4,
  "nbformat_minor": 0
}
