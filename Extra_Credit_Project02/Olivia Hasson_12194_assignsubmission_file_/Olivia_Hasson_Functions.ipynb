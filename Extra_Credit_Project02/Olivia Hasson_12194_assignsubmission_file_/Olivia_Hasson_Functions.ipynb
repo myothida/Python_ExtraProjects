{
  "cells": [
    {
      "cell_type": "markdown",
      "metadata": {
        "id": "b-1b6ywy-O5i"
      },
      "source": [
        "Exercises are taken from : https://www.brianheinold.net/python/A_Practical_Introduction_to_Python_Programming_Heinold.pdf\n"
      ]
    },
    {
      "cell_type": "markdown",
      "metadata": {
        "id": "pps5xBbs-I9w"
      },
      "source": [
        "Ex 1: Write a function called rectangle that takes two integers m and n as arguments and prints\n",
        "out an m× n box consisting of asterisks. Shown below is the output of rectangle(2,4)\n",
        "****\n",
        "****"
      ]
    },
    {
      "cell_type": "code",
      "execution_count": 1,
      "metadata": {
        "colab": {
          "base_uri": "https://localhost:8080/"
        },
        "id": "S_5WWVLH3u8y",
        "outputId": "2528b5ad-4297-4577-8e7a-5c85db583796"
      },
      "outputs": [
        {
          "name": "stdout",
          "output_type": "stream",
          "text": [
            "20\n"
          ]
        },
        {
          "data": {
            "text/plain": [
              "'\\nrectangle takes two varibles and multiplies them\\nargs: (int) 4 and 5\\nreturns: (int)\\n'"
            ]
          },
          "execution_count": 1,
          "metadata": {},
          "output_type": "execute_result"
        }
      ],
      "source": [
        "def rectangle (n,m):\n",
        "  #need to print out the asterisks. \n",
        "  return m*n\n",
        "print (rectangle (4,5))\n",
        "\"\"\"\n",
        "rectangle takes two varibles and multiplies them\n",
        "args: (int) 4 and 5\n",
        "returns: (int)\n",
        "\"\"\""
      ]
    },
    {
      "cell_type": "markdown",
      "metadata": {
        "id": "0QS7SmPV-coO"
      },
      "source": [
        "Ex 2: Write a function that takes an integer n and returns a random integer with exactly n digits. For\n",
        "instance, if n is 3, then 125 and 593 would be valid return values, but 093 would not because\n",
        "that is really 93, which is a two-digit number."
      ]
    },
    {
      "cell_type": "code",
      "execution_count": 3,
      "metadata": {
        "colab": {
          "base_uri": "https://localhost:8080/"
        },
        "id": "c4ejnmGJ-MzL",
        "outputId": "cd51fe95-45b6-4d88-daa2-d7b67724e4dd"
      },
      "outputs": [
        {
          "name": "stdout",
          "output_type": "stream",
          "text": [
            "89\n"
          ]
        },
        {
          "data": {
            "text/plain": [
              "'\\nfun takes n and gives a random number with n digits\\nargs: (int) 5\\nreturns: (int) with n digits\\n'"
            ]
          },
          "execution_count": 3,
          "metadata": {},
          "output_type": "execute_result"
        }
      ],
      "source": [
        "import random\n",
        "\n",
        "def fun(n):\n",
        "  return random.randint(10**(n-1), 10**n-1)\n",
        "print(fun(2))\n",
        "\n",
        "\"\"\"\n",
        "fun takes n and gives a random number with n digits\n",
        "args: (int) 5\n",
        "returns: (int) with n digits\n",
        "\"\"\"\n"
      ]
    },
    {
      "cell_type": "markdown",
      "metadata": {
        "id": "B0P_F5Ld-ldg"
      },
      "source": [
        "Ex 3: Write a function called number_of_factors that takes an integer and returns how many\n",
        "factors the number has."
      ]
    },
    {
      "cell_type": "code",
      "execution_count": 4,
      "metadata": {
        "colab": {
          "base_uri": "https://localhost:8080/",
          "height": 71
        },
        "id": "Yr2BLCXp-oTi",
        "outputId": "02b19085-9dfb-4b49-e0b4-89b793daf684"
      },
      "outputs": [
        {
          "name": "stdout",
          "output_type": "stream",
          "text": [
            "4\n"
          ]
        },
        {
          "data": {
            "text/plain": [
              "'\\nnumber_of_factors takes n and gives the number of factors\\nargs: (int) 14\\nreturns: (int) number of factors\\n'"
            ]
          },
          "execution_count": 4,
          "metadata": {},
          "output_type": "execute_result"
        }
      ],
      "source": [
        "def number_of_factors (n):\n",
        "  factors = []\n",
        "  for f in range (1,n+1):\n",
        "    if n%f == 0:\n",
        "      factors.append (f)\n",
        "  return len(factors)\n",
        "print (number_of_factors(14))\n",
        "\n",
        "\"\"\"\n",
        "number_of_factors takes n and gives the number of factors\n",
        "args: (int) 14\n",
        "returns: (int) number of factors\n",
        "\"\"\""
      ]
    },
    {
      "cell_type": "markdown",
      "metadata": {
        "id": "7w0DDTyY-o_4"
      },
      "source": [
        "Ex4: Write a function called first_diff that is given two strings and returns the first location in\n",
        "which the strings differ. If the strings are identical, it should return -1.Ignore the case in your function. It means h and H are the same."
      ]
    },
    {
      "cell_type": "code",
      "execution_count": 6,
      "metadata": {
        "colab": {
          "base_uri": "https://localhost:8080/",
          "height": 71
        },
        "id": "1WOvaf0z-6J6",
        "outputId": "68c4a487-c594-4c7e-e91e-f49a1c542266"
      },
      "outputs": [
        {
          "name": "stdout",
          "output_type": "stream",
          "text": [
            "4\n"
          ]
        },
        {
          "data": {
            "text/plain": [
              "'\\nfirst_diff takes two strings and compares where they are the same\\nargs: (string)\\nreturns: (int) the place where they are no longer equal\\n'"
            ]
          },
          "execution_count": 6,
          "metadata": {},
          "output_type": "execute_result"
        }
      ],
      "source": [
        "def first_diff(a, b):\n",
        "  a = list(a)\n",
        "  b = list(b)\n",
        "  diff = -1\n",
        "\n",
        "  if list(a)==list(b):\n",
        "    return -1\n",
        "  n = 0\n",
        "  m = 0\n",
        "  for n in range(min(len(a),len(b))):\n",
        "      if (a[n] == b[m]):\n",
        "        n=n+1\n",
        "        m=m+1\n",
        "\n",
        "  else:\n",
        "      diff = m\n",
        "\n",
        "  #return(a.count(a=b))\n",
        "  return diff\n",
        "\n",
        "print(first_diff(\"post-it\",\"post_it\"))\n",
        "\n",
        "\"\"\"\n",
        "first_diff takes two strings and compares where they are the same\n",
        "args: (string)\n",
        "returns: (int) the place where they are no longer equal\n",
        "\"\"\""
      ]
    },
    {
      "cell_type": "markdown",
      "metadata": {
        "id": "jLM8fAg_-6th"
      },
      "source": [
        "Ex5: Write a function called root that is given a number x and an integer n and returns x/n. In\n",
        "the function definition, set the default value of n to 2."
      ]
    },
    {
      "cell_type": "code",
      "execution_count": 7,
      "metadata": {
        "colab": {
          "base_uri": "https://localhost:8080/"
        },
        "id": "1TrSgTDa_Fu0",
        "outputId": "081f7160-938e-4af4-ccf7-40adeb8d8418"
      },
      "outputs": [
        {
          "name": "stdout",
          "output_type": "stream",
          "text": [
            "2.0\n"
          ]
        },
        {
          "data": {
            "text/plain": [
              "'\\nroot takes two varibles and divides them\\nargs: (int) 4 and 8\\nreturns: (boolean)\\n'"
            ]
          },
          "execution_count": 7,
          "metadata": {},
          "output_type": "execute_result"
        }
      ],
      "source": [
        "def root (x, n=2):\n",
        "  while n != 0:\n",
        "    return x/n\n",
        "  else:\n",
        "    return \"division by zero!\"\n",
        "print (root(8,4))\n",
        "\n",
        "\"\"\"\n",
        "root takes two varibles and divides them\n",
        "args: (int) 4 and 8\n",
        "returns: (boolean)\n",
        "\"\"\""
      ]
    },
    {
      "cell_type": "markdown",
      "metadata": {
        "id": "ca8Ftg1mLrxn"
      },
      "source": [
        "Ex6: Write a function that solves the system of equations ax + by = e and cx +dy = f. Your function should takes 6 parameters, (a, b, c, d, e,f) and return the values of x and y."
      ]
    },
    {
      "cell_type": "code",
      "execution_count": null,
      "metadata": {
        "id": "t_C-jyF9Lrxn"
      },
      "outputs": [],
      "source": []
    },
    {
      "cell_type": "markdown",
      "metadata": {
        "id": "8argcy_LLrxn"
      },
      "source": [
        "Ex7:  Write a function called change_case that given a string, returns a string with each upper  case letter replaced by a lower case letter and vice-versa"
      ]
    },
    {
      "cell_type": "code",
      "execution_count": null,
      "metadata": {
        "id": "ZZzPWbUiLrxo"
      },
      "outputs": [],
      "source": []
    },
    {
      "cell_type": "markdown",
      "metadata": {
        "id": "bgF2oeMOLrxo"
      },
      "source": [
        "Ex8:  Write a function called primes that is given a number n and returns a list of the first n  primes. Let the default value of n be 100."
      ]
    },
    {
      "cell_type": "code",
      "execution_count": 30,
      "metadata": {
        "colab": {
          "base_uri": "https://localhost:8080/"
        },
        "id": "ubYkU8R7Lrxo",
        "outputId": "d954ccf1-aa9b-4827-d957-a14f8ee332a6"
      },
      "outputs": [
        {
          "name": "stdout",
          "output_type": "stream",
          "text": [
            "[2, 3, 5, 7]\n"
          ]
        }
      ],
      "source": [
        "def primes (n=100):\n",
        "  prime_list=[2, 3, 5, 7, 11, 13, 17, 19, 23, 29, 31, 37, 41, 43, 47, 53, 59, 61, 67, 71, 73, 79, 83, 89, 97, 101, 103, 107, 109, 113, 127, 131, 137, 139, 149, 151, 157, 163, 167, 173, 179, 181, 191, 193, 197, 199, 211, 223, 227, 229, 233, 239, 241, 251, 257, 263, 269, 271, 277, 281, 283, 293, 307, 311, 313, 317, 331, 337, 347, 349, 353, 359, 367, 373, 379, 383, 389, 397, 401, 409, 419, 421, 431, 433, 439, 443, 449, 457, 461, 463, 467, 479, 487, 491, 499, 503, 509, 521, 523, 541, 547, 557, 563, 569, 571, 577, 587, 593, 599, 601, 607, 613, 617, 619, 631, 641, 643, 647, 653, 659, 661, 673, 677, 683, 691, 701, 709, 719, 727, 733, 739, 743, 751, 757, 761, 769, 773, 787, 797, 809, 811, 821, 823, 827, 829, 839, 853, 857, 859, 863, 877, 881, 883, 887, 907, 911, 919, 929, 937, 941, 947, 953, 967, 971, 977, 983, 991, 997]\n",
        "  return prime_list[0:n]\n",
        "print (primes(4))\n",
        "\n",
        "\"\"\"\n",
        "primes takes an integer and returns that many prime numbers in order\n",
        "args: (int)\n",
        "returns: list of primes\n",
        "\"\"\""
      ]
    },
    {
      "cell_type": "markdown",
      "metadata": {
        "id": "5HKywdLULrxo"
      },
      "source": [
        "Ex9: A Tic-tac-toe board can be represented be a 3×3 two-dimensional list, where zeroes stand for  empty cells, ones stand for X’s and twos stand for O’s. Write a function that is given such a list and randomly chooses a spot in which to place  a 2 (O). The spot chosen must currently be empty and a spot must be chosen."
      ]
    },
    {
      "cell_type": "code",
      "execution_count": null,
      "metadata": {
        "id": "EJVlyWa3Lrxo"
      },
      "outputs": [],
      "source": []
    },
    {
      "cell_type": "markdown",
      "metadata": {
        "id": "0HPgsjbQLrxo"
      },
      "source": [
        "Ex10:  Write a function that is given a 9 × 9 potentially solved Sudoku and returns True if it is solved correctly and False if there is a mistake. The Sudoku is correctly solved if there are\n",
        " no repeated numbers in any row or any column or in any of the nine “blocks.”\n"
      ]
    },
    {
      "cell_type": "code",
      "execution_count": null,
      "metadata": {
        "id": "IIOdvCGILrxo"
      },
      "outputs": [],
      "source": []
    }
  ],
  "metadata": {
    "colab": {
      "provenance": []
    },
    "kernelspec": {
      "display_name": "Python 3",
      "name": "python3"
    },
    "language_info": {
      "codemirror_mode": {
        "name": "ipython",
        "version": 3
      },
      "file_extension": ".py",
      "mimetype": "text/x-python",
      "name": "python",
      "nbconvert_exporter": "python",
      "pygments_lexer": "ipython3",
      "version": "3.12.1"
    }
  },
  "nbformat": 4,
  "nbformat_minor": 0
}
