{
  "cells": [
    {
      "cell_type": "markdown",
      "metadata": {
        "id": "b-1b6ywy-O5i"
      },
      "source": [
        "Exercises are taken from : https://www.brianheinold.net/python/A_Practical_Introduction_to_Python_Programming_Heinold.pdf\n"
      ]
    },
    {
      "cell_type": "markdown",
      "metadata": {
        "id": "pps5xBbs-I9w"
      },
      "source": [
        "Ex 1: Write a function called rectangle that takes two integers m and n as arguments and prints\n",
        "out an m× n box consisting of asterisks. Shown below is the output of rectangle(2,4)\n",
        "****\n",
        "****"
      ]
    },
    {
      "cell_type": "code",
      "execution_count": 1,
      "metadata": {
        "colab": {
          "base_uri": "https://localhost:8080/"
        },
        "id": "S_5WWVLH3u8y",
        "outputId": "c60c13d7-c080-4407-b69c-65a6f838e83e"
      },
      "outputs": [
        {
          "name": "stdout",
          "output_type": "stream",
          "text": [
            "****\n",
            "****\n"
          ]
        }
      ],
      "source": [
        "def rectangle(m, n):\n",
        "    for i in range(m):\n",
        "      print('*'*n)\n",
        "\"\"\"\n",
        "Here we first defined the function rectangle with 2 parameters m and n, then used a for loop to print m lines of n asterisks.\n",
        "\"\"\"\n",
        "\n",
        "rectangle(2,4)"
      ]
    },
    {
      "cell_type": "markdown",
      "metadata": {
        "id": "0QS7SmPV-coO"
      },
      "source": [
        "Ex 2: Write a function that takes an integer n and returns a random integer with exactly n digits. For\n",
        "instance, if n is 3, then 125 and 593 would be valid return values, but 093 would not because\n",
        "that is really 93, which is a two-digit number."
      ]
    },
    {
      "cell_type": "code",
      "execution_count": 2,
      "metadata": {
        "colab": {
          "base_uri": "https://localhost:8080/"
        },
        "id": "c4ejnmGJ-MzL",
        "outputId": "93c2f7de-c51f-4f31-d502-4999ee40bb93"
      },
      "outputs": [
        {
          "data": {
            "text/plain": [
              "862"
            ]
          },
          "execution_count": 2,
          "metadata": {},
          "output_type": "execute_result"
        }
      ],
      "source": [
        "import random\n",
        "def rand_int(n):\n",
        "  return random.randint(10**(n-1), 10**n-1)\n",
        "\n",
        "\"\"\"\n",
        "We defined a function called rand_int with 1 parameter n. The built-in function randint was then used to generate a random integer between 10^(n-1), which is the smallest number with n digits, and 10^n-1, which is the largest number with n digits. This way the resulting value would not start with 0.\n",
        "\"\"\"\n",
        "\n",
        "rand_int(3)"
      ]
    },
    {
      "cell_type": "markdown",
      "metadata": {
        "id": "B0P_F5Ld-ldg"
      },
      "source": [
        "Ex 3: Write a function called number_of_factors that takes an integer and returns how many\n",
        "factors the number has."
      ]
    },
    {
      "cell_type": "code",
      "execution_count": 3,
      "metadata": {
        "colab": {
          "base_uri": "https://localhost:8080/"
        },
        "id": "Yr2BLCXp-oTi",
        "outputId": "3e6ea396-e4e4-4ac9-8acc-ceeb7d425938"
      },
      "outputs": [
        {
          "data": {
            "text/plain": [
              "6"
            ]
          },
          "execution_count": 3,
          "metadata": {},
          "output_type": "execute_result"
        }
      ],
      "source": [
        "def number_of_factors(n):\n",
        "  count = 0\n",
        "  for i in range(1, n+1):\n",
        "    if n % i == 0:\n",
        "      count += 1\n",
        "  return count\n",
        "\n",
        "\"\"\"\n",
        "Again, we first defined a function called number_of_factors with 1 parameter n, and assigns the value 0 to a variable called count.\n",
        "A for loop was used to repeat an if condition n times. The if loop checks for factors of n by seeing if n/i will have a remainder, and adds 1 to the count variable when the remainder is 0.\n",
        "This way, the count variable will be the number of factors of n.\n",
        "Finally, we return the count variable.\n",
        "\"\"\"\n",
        "\n",
        "number_of_factors(12)"
      ]
    },
    {
      "cell_type": "markdown",
      "metadata": {
        "id": "7w0DDTyY-o_4"
      },
      "source": [
        "Ex4: Write a function called first_diff that is given two strings and returns the first location in\n",
        "which the strings differ. If the strings are identical, it should return -1.Ignore the case in your function. It means h and H are the same."
      ]
    },
    {
      "cell_type": "code",
      "execution_count": 4,
      "metadata": {
        "colab": {
          "base_uri": "https://localhost:8080/"
        },
        "id": "1WOvaf0z-6J6",
        "outputId": "90ae38b7-bea9-4625-d1c2-d2c2e9384bf5"
      },
      "outputs": [
        {
          "data": {
            "text/plain": [
              "4"
            ]
          },
          "execution_count": 4,
          "metadata": {},
          "output_type": "execute_result"
        }
      ],
      "source": [
        "def first_diff(s1, s2):\n",
        "  s1 = s1.lower()\n",
        "  s2 = s2.lower()\n",
        "  for i in range(min(len(s1), len(s2))):\n",
        "    if s1[i] != s2[i]:\n",
        "      return i\n",
        "  return -1\n",
        "\n",
        "\"\"\"\n",
        "We define a function first_diff with two parameters s1 and s2.\n",
        "Since we don't want to note difference in case, we first convert all the characters in both strings to lowercase.\n",
        "Then, we use an if condition in a for loop to compare the characters in the strings one by one, and the loop will return the position i at which the two characters first differ.\n",
        "Outside of the for loop, we return -1 if the two strings are identical.\n",
        "\"\"\"\n",
        "\n",
        "first_diff('hello', 'Helli')"
      ]
    },
    {
      "cell_type": "markdown",
      "metadata": {
        "id": "jLM8fAg_-6th"
      },
      "source": [
        "Ex5: Write a function called root that is given a number x and an integer n and returns x/n. In\n",
        "the function definition, set the default value of n to 2."
      ]
    },
    {
      "cell_type": "code",
      "execution_count": 5,
      "metadata": {
        "colab": {
          "base_uri": "https://localhost:8080/"
        },
        "id": "1TrSgTDa_Fu0",
        "outputId": "6955b2e5-c416-4e29-8b5d-f9f2ce5dcd08"
      },
      "outputs": [
        {
          "data": {
            "text/plain": [
              "6.0"
            ]
          },
          "execution_count": 5,
          "metadata": {},
          "output_type": "execute_result"
        }
      ],
      "source": [
        "def root(x,n=2):\n",
        "  return x**(1/int(n))\n",
        "\n",
        "\"\"\"\n",
        "We first define a function root with two parameters, x and n, with the default value of n=2.\n",
        "The function returns the value of the nth root of x, which is the same as x^(1/n).\n",
        "\"\"\"\n",
        "\n",
        "root(36)\n",
        "\n",
        "#is that question asked you to do? "
      ]
    },
    {
      "cell_type": "markdown",
      "metadata": {
        "id": "bH43k2rxS_dA"
      },
      "source": [
        "Ex6: Write a function that solves the system of equations ax + by = e and cx +dy = f. Your function should takes 6 parameters, (a, b, c, d, e,f) and return the values of x and y."
      ]
    },
    {
      "cell_type": "code",
      "execution_count": 6,
      "metadata": {
        "colab": {
          "base_uri": "https://localhost:8080/"
        },
        "id": "KxXQsaoES_dA",
        "outputId": "a200e013-ce6f-4fb2-e30e-a57b58f76882"
      },
      "outputs": [
        {
          "data": {
            "text/plain": [
              "(-4.0, 4.5)"
            ]
          },
          "execution_count": 6,
          "metadata": {},
          "output_type": "execute_result"
        }
      ],
      "source": [
        "def solve_system(a, b, c, d, e, f):\n",
        "  x = (e/b - f/d)/(a/b - c/d)\n",
        "  y = (e - a*x)/b\n",
        "  return x, y\n",
        "\n",
        "\"\"\"\n",
        "We first define a function called solve_system with 6 parameters a, b, c, d, e, and f that will solve a system of 2 linear equations.\n",
        "To find the values of x and y at which the two linear equations intersect, I did a series of algebraic manipulations to find an expression for x (line 2).\n",
        "Once we find x, the value of y can be found by substituting x into the equation ax + by = e. (line 3)\n",
        "Finally, we return the values of x and y.\n",
        "\"\"\"\n",
        "\n",
        "solve_system(1,2,3,4,5,6)"
      ]
    },
    {
      "cell_type": "markdown",
      "metadata": {
        "id": "kbDudVUFS_dA"
      },
      "source": [
        "Ex7:  Write a function called change_case that given a string, returns a string with each upper  case letter replaced by a lower case letter and vice-versa"
      ]
    },
    {
      "cell_type": "code",
      "execution_count": 7,
      "metadata": {
        "colab": {
          "base_uri": "https://localhost:8080/",
          "height": 35
        },
        "id": "jUCchlHcS_dA",
        "outputId": "cdb6c3a8-4cf2-4fab-9c5d-98657374577e"
      },
      "outputs": [
        {
          "data": {
            "text/plain": [
              "'hELLO, wORLD'"
            ]
          },
          "execution_count": 7,
          "metadata": {},
          "output_type": "execute_result"
        }
      ],
      "source": [
        "def change_case(phrase):\n",
        "  new_phrase = ''\n",
        "  for letter in phrase:\n",
        "    if letter.isupper():\n",
        "      new_phrase += letter.lower()\n",
        "    elif letter.islower():\n",
        "      new_phrase += letter.upper()\n",
        "    else:\n",
        "      new_phrase += letter\n",
        "  return new_phrase\n",
        "\n",
        "\"\"\"\n",
        "First, we define a function called change_case with 1 parameter called phrase.\n",
        "We also create an empty string named new_phrase.\n",
        "Then, we use an if condition in a for loop to check the case of each character using the built-in function is.upper/is.lower, and adds the opposite case of that character to the new string.\n",
        "If the character is not a letter, it is unchanged and added to the new string.\n",
        "Finally, we return the new string.\n",
        "\"\"\"\n",
        "\n",
        "change_case('Hello, World')"
      ]
    },
    {
      "cell_type": "markdown",
      "metadata": {
        "id": "4WZJU4HiS_dA"
      },
      "source": [
        "Ex8:  Write a function called primes that is given a number n and returns a list of the first n  primes. Let the default value of n be 100."
      ]
    },
    {
      "cell_type": "code",
      "execution_count": 8,
      "metadata": {
        "colab": {
          "base_uri": "https://localhost:8080/"
        },
        "id": "k1d4WRNtS_dA",
        "outputId": "4621e591-7862-4abe-9ce7-295412653b04"
      },
      "outputs": [
        {
          "data": {
            "text/plain": [
              "[2, 3, 5, 7, 11, 13, 17, 19]"
            ]
          },
          "execution_count": 8,
          "metadata": {},
          "output_type": "execute_result"
        }
      ],
      "source": [
        "def primes(n=100):\n",
        "  primes = []\n",
        "  i = 2\n",
        "  while len(primes) < n:\n",
        "    for j in range(2, i):\n",
        "      if i % j == 0:\n",
        "        break\n",
        "    else:\n",
        "      primes.append(i)\n",
        "    i += 1\n",
        "  return primes\n",
        "\n",
        "\"\"\"\n",
        "First we define a function named primes with 1 parameter n set to the default value 100, and create an empty list called primes.\n",
        "The goal is to first make a list of all prime numbers of length n.\n",
        "The while loop (line 4) ensures that the list will stop extending when its length is equal to n. We use two arbitrary integers, i and j, to check if i is a prime number by taking their modulus.\n",
        "If j (in the range 2-i) is a factor of i, their modulus=0, so i is not prime and the while loop will go back to check the next i value.\n",
        "If j is not a factor of i, i must be a prime number, and will be added to the list primes.\n",
        "After all the j values have been checked (or the loop is broken because j is a factor of i), the value of i will increase by 1 and the loop continues until there are n elements in the list.\n",
        "Finally, the function returns the list of n prime numbers.\n",
        "\"\"\"\n",
        "\n",
        "primes(8)"
      ]
    },
    {
      "cell_type": "markdown",
      "metadata": {
        "id": "rxw_8DgqS_dA"
      },
      "source": [
        "Ex9: A Tic-tac-toe board can be represented be a 3×3 two-dimensional list, where zeroes stand for  empty cells, ones stand for X’s and twos stand for O’s. Write a function that is given such a list and randomly chooses a spot in which to place  a 2 (O). The spot chosen must currently be empty and a spot must be chosen."
      ]
    },
    {
      "cell_type": "code",
      "execution_count": 9,
      "metadata": {
        "colab": {
          "base_uri": "https://localhost:8080/"
        },
        "id": "usQAsSDeS_dA",
        "outputId": "1a3c46c2-43f4-42d5-975d-888e2a3d8240"
      },
      "outputs": [
        {
          "name": "stdout",
          "output_type": "stream",
          "text": [
            "[[1, 0, 1], [0, 2, 0], [0, 2, 0]]\n"
          ]
        },
        {
          "data": {
            "text/plain": [
              "[[1, 0, 1], [0, 2, 0], [2, 2, 0]]"
            ]
          },
          "execution_count": 9,
          "metadata": {},
          "output_type": "execute_result"
        }
      ],
      "source": [
        "import random\n",
        "board = [[1, 0, 1], [0, 2, 0], [0, 2, 0]]\n",
        "print(board)\n",
        "\n",
        "def tic_tac_toe(board):\n",
        "  possible_places = [] ## Here I created an empty list for all the empty spots (0) that are possible to place a 2 in\n",
        "  for i in range(len(board)):\n",
        "    for j in range(len(board[i])): ## I used i and j to check all the indices in the given board (list)\n",
        "      if board[i][j] == 0:\n",
        "        possible_places.append((i,j)) ## If the function finds the value at one position in the list is 0, it will add the two numbers (indices for a list of lists) to the list of all possible places.\n",
        "\n",
        "  random_place = random.choice(possible_places) ## I created a new variable, random_place, that randomly selects a position from the list of possible positions. This variable will be a list containing two elements.\n",
        "  board[random_place[0]][random_place[1]] = 2 ## Now I replace the value at the random_place position in the original board with a 2. The number at index 0 of random_place gives the first index in the list of lists, and the number at index 1 gives the index for the element within the list of lists.\n",
        "\n",
        "  return board ## Finally, the board is returned.\n",
        "\n",
        "tic_tac_toe(board)"
      ]
    },
    {
      "cell_type": "markdown",
      "metadata": {
        "id": "MmuIQifNS_dA"
      },
      "source": [
        "Ex10:  Write a function that is given a 9 × 9 potentially solved Sudoku and returns True if it is solved correctly and False if there is a mistake. The Sudoku is correctly solved if there are\n",
        " no repeated numbers in any row or any column or in any of the nine “blocks.”\n"
      ]
    },
    {
      "cell_type": "code",
      "execution_count": 10,
      "metadata": {
        "id": "idXrRfN3S_dA"
      },
      "outputs": [
        {
          "ename": "SyntaxError",
          "evalue": "incomplete input (3352827935.py, line 13)",
          "output_type": "error",
          "traceback": [
            "\u001b[1;36m  Cell \u001b[1;32mIn[10], line 13\u001b[1;36m\u001b[0m\n\u001b[1;33m    def sudoku_check(board):\u001b[0m\n\u001b[1;37m                            ^\u001b[0m\n\u001b[1;31mSyntaxError\u001b[0m\u001b[1;31m:\u001b[0m incomplete input\n"
          ]
        }
      ],
      "source": [
        "board = [\n",
        "    [5, 3, 4, 6, 7, 8, 9, 1, 2],\n",
        "    [6, 7, 2, 1, 9, 5, 3, 4, 8],\n",
        "    [1, 9, 8, 3, 4, 2, 5, 6, 7],\n",
        "    [8, 5, 9, 7, 6, 1, 4, 2, 3],\n",
        "    [4, 2, 6, 8, 5, 3, 7, 9, 1],\n",
        "    [7, 1, 3, 9, 2, 4, 8, 5, 6],\n",
        "    [9, 6, 1, 5, 3, 7, 2, 8, 4],\n",
        "    [2, 8, 7, 4, 1, 9, 6, 3, 5],\n",
        "    [3, 4, 5, 2, 8, 6, 1, 7, 9]\n",
        "]\n",
        "\n",
        "def sudoku_check(board):"
      ]
    }
  ],
  "metadata": {
    "colab": {
      "name": "Ex5_Function.ipynb",
      "provenance": []
    },
    "kernelspec": {
      "display_name": "Python 3",
      "name": "python3"
    },
    "language_info": {
      "codemirror_mode": {
        "name": "ipython",
        "version": 3
      },
      "file_extension": ".py",
      "mimetype": "text/x-python",
      "name": "python",
      "nbconvert_exporter": "python",
      "pygments_lexer": "ipython3",
      "version": "3.12.1"
    }
  },
  "nbformat": 4,
  "nbformat_minor": 0
}
