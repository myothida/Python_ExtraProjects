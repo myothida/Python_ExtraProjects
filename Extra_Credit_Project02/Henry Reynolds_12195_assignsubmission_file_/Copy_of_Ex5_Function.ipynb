{
  "cells": [
    {
      "cell_type": "markdown",
      "metadata": {
        "id": "b-1b6ywy-O5i"
      },
      "source": [
        "Exercises are taken from : https://www.brianheinold.net/python/A_Practical_Introduction_to_Python_Programming_Heinold.pdf\n"
      ]
    },
    {
      "cell_type": "markdown",
      "metadata": {
        "id": "pps5xBbs-I9w"
      },
      "source": [
        "Ex 1: Write a function called rectangle that takes two integers m and n as arguments and prints\n",
        "out an m× n box consisting of asterisks. Shown below is the output of rectangle(2,4)\n",
        "****\n",
        "****"
      ]
    },
    {
      "cell_type": "code",
      "execution_count": 1,
      "metadata": {
        "colab": {
          "base_uri": "https://localhost:8080/"
        },
        "id": "S_5WWVLH3u8y",
        "outputId": "1d60ca45-1653-41d6-cf30-86b0a8c501d8"
      },
      "outputs": [
        {
          "name": "stdout",
          "output_type": "stream",
          "text": [
            "*****\n",
            "*   *\n",
            "*   *\n",
            "*   *\n",
            "*   *\n",
            "*****\n",
            "\n"
          ]
        }
      ],
      "source": [
        "def rectangle(m, n):\n",
        "  \"\"\"\n",
        "  prints a rectangle out of asterisks with m x n dimensions\n",
        "\n",
        "  args:\n",
        "    m: the width of the rectangle\n",
        "    n: the height of the rectangle\n",
        "\n",
        "  returns:\n",
        "    none\n",
        "  \"\"\"\n",
        "\n",
        "  rect = \"\"\n",
        "  rect += \"*\" * m + \"\\n\"\n",
        "  for i in range(n - 2):\n",
        "    rect += \"*\" + \" \" * (m - 2) + \"*\" + \"\\n\"\n",
        "  rect += \"*\" * m + \"\\n\"\n",
        "  print(rect)\n",
        "\n",
        "rectangle(5, 6)"
      ]
    },
    {
      "cell_type": "markdown",
      "metadata": {
        "id": "0QS7SmPV-coO"
      },
      "source": [
        "Ex 2: Write a function that takes an integer n and returns a random integer with exactly n digits. For\n",
        "instance, if n is 3, then 125 and 593 would be valid return values, but 093 would not because\n",
        "that is really 93, which is a two-digit number."
      ]
    },
    {
      "cell_type": "code",
      "execution_count": 2,
      "metadata": {
        "colab": {
          "base_uri": "https://localhost:8080/"
        },
        "id": "c4ejnmGJ-MzL",
        "outputId": "4a07a7ec-976e-4076-80a7-18c05071cee2"
      },
      "outputs": [
        {
          "name": "stdout",
          "output_type": "stream",
          "text": [
            "362\n"
          ]
        }
      ],
      "source": [
        "import random\n",
        "def randOfDigits(n):\n",
        "  \"\"\"\n",
        "  provides a random number of n digits\n",
        "\n",
        "  args:\n",
        "    n: the number of digits the returned random number should be\n",
        "\n",
        "  returns:\n",
        "    a random number of n digits\n",
        "  \"\"\"\n",
        "\n",
        "  min = pow(10, n - 1)\n",
        "  max = pow(10, n) - 1\n",
        "\n",
        "  return random.randint(min, max)\n",
        "print(randOfDigits(3))"
      ]
    },
    {
      "cell_type": "markdown",
      "metadata": {
        "id": "B0P_F5Ld-ldg"
      },
      "source": [
        "Ex 3: Write a function called number_of_factors that takes an integer and returns how many\n",
        "factors the number has."
      ]
    },
    {
      "cell_type": "code",
      "execution_count": 3,
      "metadata": {
        "colab": {
          "base_uri": "https://localhost:8080/"
        },
        "id": "Yr2BLCXp-oTi",
        "outputId": "61b43846-7e26-4296-984c-23fba13cc547"
      },
      "outputs": [
        {
          "name": "stdout",
          "output_type": "stream",
          "text": [
            "4\n"
          ]
        }
      ],
      "source": [
        "def number_of_factors(n):\n",
        "  \"\"\"\n",
        "  takes a number and returns how many factors it has\n",
        "\n",
        "  args:\n",
        "    n: the number to find the factors of\n",
        "\n",
        "  returns:\n",
        "    the amount of factors n has\n",
        "  \"\"\"\n",
        "  i = 1\n",
        "  factors = 0\n",
        "  while i <= n:\n",
        "    if (n % i == 0):\n",
        "      factors += 1\n",
        "    i += 1\n",
        "  return factors\n",
        "\n",
        "print(number_of_factors(6))"
      ]
    },
    {
      "cell_type": "markdown",
      "metadata": {
        "id": "7w0DDTyY-o_4"
      },
      "source": [
        "Ex4: Write a function called first_diff that is given two strings and returns the first location in\n",
        "which the strings differ. If the strings are identical, it should return -1.Ignore the case in your function. It means h and H are the same."
      ]
    },
    {
      "cell_type": "code",
      "execution_count": 13,
      "metadata": {
        "colab": {
          "base_uri": "https://localhost:8080/"
        },
        "id": "1WOvaf0z-6J6",
        "outputId": "c26c3371-8af6-45a5-bf03-f3bab36b3a63"
      },
      "outputs": [
        {
          "name": "stdout",
          "output_type": "stream",
          "text": [
            "6\n"
          ]
        }
      ],
      "source": [
        "def first_diff(str1, str2):\n",
        "  #comment by myo: one extra index\n",
        "  \"\"\"\n",
        "  finds the index of the first differing character between 2 given strings\n",
        "\n",
        "  args:\n",
        "    str1: the first string to compare\n",
        "    str2: the second string to compare\n",
        "\n",
        "  returns:\n",
        "    the index of the first differing character. -1 if there are no differing characters.\n",
        "  \"\"\"\n",
        "\n",
        "  for i, c in enumerate(str1):\n",
        "    if i >= len(str2):\n",
        "      return i + 1\n",
        "    elif str2[i] != c:\n",
        "      return i, c\n",
        "\n",
        "  return -1\n",
        "print(first_diff(\"test21\", \"test2\"))"
      ]
    },
    {
      "cell_type": "markdown",
      "metadata": {
        "id": "jLM8fAg_-6th"
      },
      "source": [
        "Ex5: Write a function called root that is given a number x and an integer n and returns x/n. In\n",
        "the function definition, set the default value of n to 2."
      ]
    },
    {
      "cell_type": "code",
      "execution_count": 14,
      "metadata": {
        "colab": {
          "base_uri": "https://localhost:8080/"
        },
        "id": "1TrSgTDa_Fu0",
        "outputId": "b493716a-12a3-4b4c-972d-291f23455ee0"
      },
      "outputs": [
        {
          "name": "stdout",
          "output_type": "stream",
          "text": [
            "2.0\n"
          ]
        }
      ],
      "source": [
        "def root(x, n=2):\n",
        "  \"\"\"\n",
        "  divides x by n\n",
        "\n",
        "  args:\n",
        "    x: the numerator of the division\n",
        "    n: the denominator of the division, default of 2\n",
        "\n",
        "  returns:\n",
        "    the quotient of the division\n",
        "  \"\"\"\n",
        "  return x/n\n",
        "print(root(4))"
      ]
    },
    {
      "cell_type": "markdown",
      "metadata": {
        "id": "XkBUMHsreD39"
      },
      "source": [
        "Ex6: Write a function that solves the system of equations ax + by = e and cx +dy = f. Your function should takes 4 parameters, (a, b, c, d, e,f) and return the values of x and y."
      ]
    },
    {
      "cell_type": "code",
      "execution_count": 6,
      "metadata": {
        "id": "jxgaO-zXhu2B"
      },
      "outputs": [],
      "source": [
        "def solve_system(a, b, c, d, e, f):\n",
        "  #AI is not reliable here. \n",
        "  \"\"\"\n",
        "  solves the system ax + by = e and cx + dy = f given the arguments\n",
        "\n",
        "  args:\n",
        "    a: number for 'a' in the system\n",
        "    b: number for 'b' in the system\n",
        "    c: number for 'c' in the system\n",
        "    d: number for 'd' in the system\n",
        "    e: number for 'e' in the system\n",
        "    f: number for 'f' in the system\n",
        "  \"\"\"\n",
        "  determinant = a * d - b * c\n",
        "  if determinant == 0:\n",
        "      raise ValueError(\"no unique solution.\")\n",
        "  x = (e * d - b * f) / determinant\n",
        "  y = (a * f - e * c) / determinant"
      ]
    },
    {
      "cell_type": "markdown",
      "metadata": {
        "id": "UmNIvKc2eD3_"
      },
      "source": [
        "Ex7:  Write a function called change_case that given a string, returns a string with each upper  case letter replaced by a lower case letter and vice-versa"
      ]
    },
    {
      "cell_type": "code",
      "execution_count": 7,
      "metadata": {
        "colab": {
          "base_uri": "https://localhost:8080/"
        },
        "id": "bJLqqsK0eD3_",
        "outputId": "79a731bf-61c3-4cfd-f36e-192a037b3c73"
      },
      "outputs": [
        {
          "name": "stdout",
          "output_type": "stream",
          "text": [
            "TeSt\n"
          ]
        }
      ],
      "source": [
        "def change_case(s):\n",
        "  \"\"\"\n",
        "  swaps the case of a given string\n",
        "\n",
        "  args:\n",
        "    s: the string to swap the case of\n",
        "\n",
        "  returns:\n",
        "    the given string but with all of the cases swapped\n",
        "  \"\"\"\n",
        "  return s.swapcase()\n",
        "print(change_case(\"tEsT\"))\n"
      ]
    },
    {
      "cell_type": "markdown",
      "metadata": {
        "id": "wHSsw4FGeD4A"
      },
      "source": [
        "Ex8:  Write a function called primes that is given a number n and returns a list of the first n  primes. Let the default value of n be 100."
      ]
    },
    {
      "cell_type": "code",
      "execution_count": 8,
      "metadata": {
        "colab": {
          "base_uri": "https://localhost:8080/"
        },
        "id": "iQMkmOpwijrL",
        "outputId": "06cb889e-1394-4991-f744-dd7b49fad6bc"
      },
      "outputs": [
        {
          "name": "stdout",
          "output_type": "stream",
          "text": [
            "[2, 3, 5, 7, 11, 13, 17, 19, 23, 29, 31, 37, 41, 43, 47, 53, 59, 61, 67, 71, 73, 79, 83, 89, 97, 101, 103, 107, 109, 113, 127, 131, 137, 139, 149, 151, 157, 163, 167, 173, 179, 181, 191, 193, 197, 199, 211, 223, 227, 229, 233, 239, 241, 251, 257, 263, 269, 271, 277, 281, 283, 293, 307, 311, 313, 317, 331, 337, 347, 349, 353, 359, 367, 373, 379, 383, 389, 397, 401, 409, 419, 421, 431, 433, 439, 443, 449, 457, 461, 463, 467, 479, 487, 491, 499, 503, 509, 521, 523, 541]\n"
          ]
        }
      ],
      "source": [
        "def number_of_factors(n):\n",
        "  \"\"\"\n",
        "  takes a number and returns how many factors it has\n",
        "\n",
        "  args:\n",
        "    n: the number to find the factors of\n",
        "\n",
        "  returns:\n",
        "    the amount of factors n has\n",
        "  \"\"\"\n",
        "  i = 1\n",
        "  factors = 0\n",
        "  while i <= n:\n",
        "    if (n % i == 0):\n",
        "      factors += 1\n",
        "    i += 1\n",
        "  return factors\n",
        "\n",
        "def primes(n=100):\n",
        "  \"\"\"\n",
        "  returns a list of the first n prime numbers\n",
        "\n",
        "  args:\n",
        "    n: the amount of prime numbers to find\n",
        "\n",
        "  returns:\n",
        "    a list with the first n prime numbers\n",
        "  \"\"\"\n",
        "\n",
        "  primeList = []\n",
        "  i = 1\n",
        "  while len(primeList) < n:\n",
        "    if number_of_factors(i) == 2:\n",
        "      primeList.append(i)\n",
        "    i += 1\n",
        "  return primeList\n",
        "\n",
        "print(primes())\n"
      ]
    },
    {
      "cell_type": "markdown",
      "metadata": {
        "id": "zw3iUjXzeD4B"
      },
      "source": [
        "Ex9: ATic-tac-toe board can be represented be a 3×3 two-dimensional list, where zeroes stand for  empty cells, ones stand for X’s and twos stand for O’s. Write a function that is given such a list and randomly chooses a spot in which to place  a 2 (O). The spot chosen must currently be empty and a spot must be chosen."
      ]
    },
    {
      "cell_type": "code",
      "execution_count": 9,
      "metadata": {
        "colab": {
          "base_uri": "https://localhost:8080/"
        },
        "id": "kTm-T4S6eD4C",
        "outputId": "050cb070-92cc-48d2-a10c-603410eecbfa"
      },
      "outputs": [
        {
          "name": "stdout",
          "output_type": "stream",
          "text": [
            "[[1, 2, 2], [0, 1, 0], [2, 0, 0]]\n"
          ]
        }
      ],
      "source": [
        "import random\n",
        "\n",
        "def place_O(board):\n",
        "  \"\"\"\n",
        "  takes a given tic tac toe board and places an O in a random empty space\n",
        "\n",
        "  args:\n",
        "    board: the tic tac toe board represented by a list where  each index is a row represented by a list of 3 numbers\n",
        "\n",
        "  returns:\n",
        "    the board with an O placed in a random empty space or a value error if there are no empty slots\n",
        "  \"\"\"\n",
        "  empty_spots = [(i, j) for i in range(3) for j in range(3) if board[i][j] == 0]\n",
        "\n",
        "  if not empty_spots:\n",
        "      raise ValueError(\"no empty slots\")\n",
        "\n",
        "  chosen_spot = random.choice(empty_spots)\n",
        "  board[chosen_spot[0]][chosen_spot[1]] = 2\n",
        "\n",
        "  return board\n",
        "\n",
        "tic_tac_toe_board = [\n",
        "    [1, 2, 0],\n",
        "    [0, 1, 0],\n",
        "    [2, 0, 0]\n",
        "]\n",
        "new_board = place_O(tic_tac_toe_board)\n",
        "print(new_board)"
      ]
    },
    {
      "cell_type": "markdown",
      "metadata": {
        "id": "y4w2smNKeD4D"
      },
      "source": [
        "Ex10:  Write a function that is given a 9 × 9 potentially solved Sudoku and returns True if it is solved correctly and False if there is a mistake. The Sudoku is correctly solved if there are\n",
        " no repeated numbers in any row or any column or in any of the nine “blocks.”\n"
      ]
    },
    {
      "cell_type": "code",
      "execution_count": 10,
      "metadata": {
        "colab": {
          "base_uri": "https://localhost:8080/"
        },
        "id": "0S0oT2uxjR-B",
        "outputId": "4783d9d3-4683-4337-96f4-1a0921d67643"
      },
      "outputs": [
        {
          "name": "stdout",
          "output_type": "stream",
          "text": [
            "True\n"
          ]
        }
      ],
      "source": [
        "def is_group_valid(group):\n",
        "  \"\"\"\n",
        "  takes a sudoku group and returns if there are any duplicates or not\n",
        "\n",
        "  args:\n",
        "    group: the sudoku group represented by a list of numbers\n",
        "\n",
        "  returns:\n",
        "    whether or not the group is valid\n",
        "  \"\"\"\n",
        "  return len(group) == len(set(group))\n",
        "\n",
        "def is_solved(board):\n",
        "  \"\"\"\n",
        "  takes a given sudoku board and returns if it is solved or not\n",
        "\n",
        "  args:\n",
        "    board: the sudoku board represented by a list where each index is a row which a list of 9 numbers\n",
        "\n",
        "  returns:\n",
        "    whether or not the board is solved or not\n",
        "  \"\"\"\n",
        "  for i in range(9):\n",
        "      if not is_group_valid(board[i]):\n",
        "          return False\n",
        "      col = []\n",
        "      for j in range(9):\n",
        "        col.append(board[j][i])\n",
        "      if not is_group_valid(col):\n",
        "            return False\n",
        "\n",
        "  for block_row in range(3):\n",
        "     for block_col in range(3):\n",
        "        block = []\n",
        "        for i in range(3):\n",
        "          for j in range(3):\n",
        "            row = block_row * 3 + i\n",
        "            col = block_col * 3 + j\n",
        "            block.append(board[row][col])\n",
        "            if not is_group_valid(block):\n",
        "                return False\n",
        "\n",
        "  return True\n",
        "\n",
        "sudoku_board = [\n",
        "    [5, 3, 4, 6, 7, 8, 9, 1, 2],\n",
        "    [6, 7, 2, 1, 9, 5, 3, 4, 8],\n",
        "    [1, 9, 8, 3, 4, 2, 5, 6, 7],\n",
        "    [8, 5, 9, 7, 6, 1, 4, 2, 3],\n",
        "    [4, 2, 6, 8, 5, 3, 7, 9, 1],\n",
        "    [7, 1, 3, 9, 2, 4, 8, 5, 6],\n",
        "    [9, 6, 1, 5, 3, 7, 2, 8, 4],\n",
        "    [2, 8, 7, 4, 1, 9, 6, 3, 5],\n",
        "    [3, 4, 5, 2, 8, 6, 1, 7, 9]\n",
        "]\n",
        "\n",
        "print(is_solved(sudoku_board))"
      ]
    },
    {
      "cell_type": "code",
      "execution_count": null,
      "metadata": {
        "id": "UnA84_IdniIq"
      },
      "outputs": [],
      "source": []
    }
  ],
  "metadata": {
    "colab": {
      "provenance": []
    },
    "kernelspec": {
      "display_name": "Python 3",
      "name": "python3"
    },
    "language_info": {
      "codemirror_mode": {
        "name": "ipython",
        "version": 3
      },
      "file_extension": ".py",
      "mimetype": "text/x-python",
      "name": "python",
      "nbconvert_exporter": "python",
      "pygments_lexer": "ipython3",
      "version": "3.12.1"
    }
  },
  "nbformat": 4,
  "nbformat_minor": 0
}
