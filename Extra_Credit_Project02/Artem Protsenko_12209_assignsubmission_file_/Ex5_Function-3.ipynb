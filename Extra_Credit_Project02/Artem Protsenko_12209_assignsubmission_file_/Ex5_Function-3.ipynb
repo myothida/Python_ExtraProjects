{
  "cells": [
    {
      "cell_type": "markdown",
      "metadata": {
        "id": "b-1b6ywy-O5i"
      },
      "source": [
        "Exercises are taken from : https://www.brianheinold.net/python/A_Practical_Introduction_to_Python_Programming_Heinold.pdf\n"
      ]
    },
    {
      "cell_type": "markdown",
      "metadata": {
        "id": "pps5xBbs-I9w"
      },
      "source": [
        "Ex 1: Write a function called rectangle that takes two integers m and n as arguments and prints\n",
        "out an m× n box consisting of asterisks. Shown below is the output of rectangle(2,4)\n",
        "****\n",
        "****"
      ]
    },
    {
      "cell_type": "code",
      "execution_count": 1,
      "metadata": {
        "colab": {
          "base_uri": "https://localhost:8080/"
        },
        "id": "S_5WWVLH3u8y",
        "outputId": "901f3c4f-8249-4b40-93fc-9621f7591852"
      },
      "outputs": [
        {
          "name": "stdout",
          "output_type": "stream",
          "text": [
            "****\n",
            "****\n"
          ]
        }
      ],
      "source": [
        "def rectangle(m, n):\n",
        "  \"\"\"\n",
        "  rectangle prints the rectangle consisting of asterisks.\n",
        "  args:\n",
        "  m: the width of the rectangle\n",
        "  n: the height of the rectangle\n",
        "\n",
        "  Returns:\n",
        "  no return value\n",
        "  \"\"\"\n",
        "  for i in range(m):\n",
        "    print('*'*n)\n",
        "rectangle(2, 4)"
      ]
    },
    {
      "cell_type": "markdown",
      "metadata": {
        "id": "0QS7SmPV-coO"
      },
      "source": [
        "Ex 2: Write a function that takes an integer n and returns a random integer with exactly n digits. For\n",
        "instance, if n is 3, then 125 and 593 would be valid return values, but 093 would not because\n",
        "that is really 93, which is a two-digit number."
      ]
    },
    {
      "cell_type": "code",
      "execution_count": 2,
      "metadata": {
        "colab": {
          "base_uri": "https://localhost:8080/"
        },
        "id": "c4ejnmGJ-MzL",
        "outputId": "f030ca09-54d0-4e2f-e02c-7cb5ecdd644c"
      },
      "outputs": [
        {
          "name": "stdout",
          "output_type": "stream",
          "text": [
            "1433\n"
          ]
        }
      ],
      "source": [
        "def number_of_digits(n):\n",
        "  \"\"\"\n",
        "  number_of_digits prints out the random number if the number of digits n is given.\n",
        "  if the first digit is 0 in the number that has more than one digit, then the\n",
        "  program says that the number has less digits than given.\n",
        "  args:\n",
        "  n: the number of digits\n",
        "\n",
        "  Returns:\n",
        "  no return value\n",
        "  \"\"\"\n",
        "  import random\n",
        "  random_number=0\n",
        "  l=n\n",
        "  while n>0:\n",
        "    n-=1\n",
        "    random_number=(random.randint(0,9)*(10**n))+random_number\n",
        "  if len(str(random_number))==l:\n",
        "    print(random_number)\n",
        "  else:\n",
        "    print(f'The number {random_number} has less digits than {l}')\n",
        "number_of_digits(4)"
      ]
    },
    {
      "cell_type": "markdown",
      "metadata": {
        "id": "B0P_F5Ld-ldg"
      },
      "source": [
        "Ex 3: Write a function called number_of_factors that takes an integer and returns how many\n",
        "factors the number has."
      ]
    },
    {
      "cell_type": "code",
      "execution_count": 3,
      "metadata": {
        "colab": {
          "base_uri": "https://localhost:8080/"
        },
        "id": "Yr2BLCXp-oTi",
        "outputId": "27f291ea-3b5b-4031-f3da-442c2531d91d"
      },
      "outputs": [
        {
          "name": "stdout",
          "output_type": "stream",
          "text": [
            "6\n"
          ]
        }
      ],
      "source": [
        "def number_of_factors(n):\n",
        "  \"\"\"\n",
        "  number_of_factors returns the number of factors integer has.\n",
        "  args:\n",
        "  n: integer given by the user\n",
        "\n",
        "  Returns:\n",
        "  len(list): the length of the list consisting of number's factors\n",
        "  \"\"\"\n",
        "  list=[ ]\n",
        "  for k in range(1,n+1):\n",
        "    if n%k==0:\n",
        "      list.append(k)\n",
        "  return len(list)\n",
        "factors=number_of_factors(45)\n",
        "print(factors)"
      ]
    },
    {
      "cell_type": "markdown",
      "metadata": {
        "id": "7w0DDTyY-o_4"
      },
      "source": [
        "Ex4: Write a function called first_diff that is given two strings and returns the first location in\n",
        "which the strings differ. If the strings are identical, it should return -1.Ignore the case in your function. It means h and H are the same."
      ]
    },
    {
      "cell_type": "code",
      "execution_count": 15,
      "metadata": {
        "colab": {
          "base_uri": "https://localhost:8080/"
        },
        "id": "1WOvaf0z-6J6",
        "outputId": "33baba5d-6704-43a2-9ae1-528bdfe16858"
      },
      "outputs": [
        {
          "name": "stdout",
          "output_type": "stream",
          "text": [
            "3\n"
          ]
        }
      ],
      "source": [
        "#this does not return -1 for idential strings\n",
        "def first_diff(string1, string2):\n",
        "  \"\"\"\n",
        "  first_diff prints out the first index of two strings, where they are different.\n",
        "  args:\n",
        "  string1(string): the first string\n",
        "  string2(string): the second string\n",
        "\n",
        "  Return:\n",
        "  no return value\n",
        "  \"\"\"\n",
        "  length=0\n",
        "  string1=string1.lower()\n",
        "  string2=string2.lower()\n",
        "  if len(string1)>len(string2):\n",
        "    length=len(string1)\n",
        "  else:\n",
        "    length=len(string2)\n",
        "  for i in range(length):\n",
        "    if i==length:\n",
        "      print(-1)\n",
        "      break\n",
        "    if i==len(string1) and len(string1)<len(string2):\n",
        "      print(len(string1))\n",
        "      break\n",
        "    if i==len(string2) and len(string1)>len(string2):\n",
        "      print(len(string2))\n",
        "      break\n",
        "    if string1[i]!=string2[i]:\n",
        "      print(i)\n",
        "      break\n",
        "    else:\n",
        "      i=i+1\n",
        "first_diff('abc', 'abc*5')"
      ]
    },
    {
      "cell_type": "markdown",
      "metadata": {
        "id": "jLM8fAg_-6th"
      },
      "source": [
        "Ex5: Write a function called root that is given a number x and an integer n and returns x/n. In\n",
        "the function definition, set the default value of n to 2."
      ]
    },
    {
      "cell_type": "code",
      "execution_count": 13,
      "metadata": {
        "colab": {
          "base_uri": "https://localhost:8080/"
        },
        "id": "1TrSgTDa_Fu0",
        "outputId": "9abb03d6-89c5-4003-e4b2-ece2db70972d"
      },
      "outputs": [
        {
          "name": "stdout",
          "output_type": "stream",
          "text": [
            "0.6125\n"
          ]
        }
      ],
      "source": [
        "def root(x, n=2):\n",
        "  \"\"\"\n",
        "  root returns the result for the devision x over n.\n",
        "  args:\n",
        "  x: numerator in the division\n",
        "  n: denominator in the division\n",
        "  Return:\n",
        "  result: the result for the devision x over n\n",
        "  \"\"\"\n",
        "  result=x/n\n",
        "  return result\n",
        "result1=root(1.225)\n",
        "print(result1)"
      ]
    },
    {
      "cell_type": "markdown",
      "metadata": {
        "id": "4YKN7JN3mWMo"
      },
      "source": [
        "Ex6: Write a function that solves the system of equations ax + by = e and cx +dy = f. Your function should takes 6 parameters, (a, b, c, d, e,f) and return the values of x and y."
      ]
    },
    {
      "cell_type": "code",
      "execution_count": 6,
      "metadata": {
        "id": "H-MSD0k8mWMp"
      },
      "outputs": [
        {
          "name": "stdout",
          "output_type": "stream",
          "text": [
            "(-1.3333333333333333, 4.5)\n"
          ]
        }
      ],
      "source": [
        "def equations(a, b, c, d, e, f):\n",
        "  \"\"\"\n",
        "  equations returns the result for the devision x over n.\n",
        "  args:\n",
        "  a, b, c, d, e, f: 6 parameters in the two equations.\n",
        "\n",
        "  Return:\n",
        "  x, y: the values of the variables x, y calculated from the equations ax + by = e and cx +dy = f.\n",
        "  \"\"\"\n",
        "  y=(a*f-c*e)/(d*a-b*c)\n",
        "  x=(e-b*y)/c\n",
        "  return x, y\n",
        "values=equations(1, 2, 3, 4, 5, 6)\n",
        "print(values)"
      ]
    },
    {
      "cell_type": "markdown",
      "metadata": {
        "id": "C17ns35kmWMq"
      },
      "source": [
        "Ex7:  Write a function called change_case that given a string, returns a string with each upper  case letter replaced by a lower case letter and vice-versa"
      ]
    },
    {
      "cell_type": "code",
      "execution_count": 7,
      "metadata": {
        "id": "zEtV_QjpmWMq"
      },
      "outputs": [
        {
          "name": "stdout",
          "output_type": "stream",
          "text": [
            "aRTEM\n"
          ]
        }
      ],
      "source": [
        "def change_case(text):\n",
        "  \"\"\"\n",
        "  change_case returns the string, where the letters have swapped case.\n",
        "  args:\n",
        "  text(string): the given string for the function\n",
        "\n",
        "  Return:\n",
        "  new_text(string): the string with the swapped case letters\n",
        "  \"\"\"\n",
        "  new_text=text.swapcase()\n",
        "  return new_text\n",
        "reversed_text=change_case(\"Artem\")\n",
        "print(reversed_text)"
      ]
    },
    {
      "cell_type": "markdown",
      "metadata": {
        "id": "1JnJ4N6pmWMq"
      },
      "source": [
        "Ex8:  Write a function called primes that is given a number n and returns a list of the first n  primes. Let the default value of n be 100."
      ]
    },
    {
      "cell_type": "code",
      "execution_count": 8,
      "metadata": {
        "colab": {
          "base_uri": "https://localhost:8080/"
        },
        "id": "1vQFF-BhmWMq",
        "outputId": "6c388359-57b8-48cd-e466-24d38fd52cbb"
      },
      "outputs": [
        {
          "name": "stdout",
          "output_type": "stream",
          "text": [
            "[]\n"
          ]
        }
      ],
      "source": [
        "def primes(n=100):\n",
        "  \"\"\"\n",
        "  primes returns the prime digits of the given number\n",
        "  args:\n",
        "  n: the given number\n",
        "\n",
        "  Return:\n",
        "  list(list): the list of prime digits\n",
        "  \"\"\"\n",
        "  n=str(n)\n",
        "  list=[]\n",
        "  for l in range(len(n)):\n",
        "    count=0\n",
        "    for i in range(1, int(n[l])+1):\n",
        "      if int(n[l])%i==0:\n",
        "        count+=1\n",
        "    if count<=2 and int(n[l])>1:\n",
        "      list.append(int(n[l]))\n",
        "  return list\n",
        "prime_numbers=primes()\n",
        "print(prime_numbers)"
      ]
    },
    {
      "cell_type": "markdown",
      "metadata": {
        "id": "pcM-l1G_mWMs"
      },
      "source": [
        "Ex9: A Tic-tac-toe board can be represented be a 3×3 two-dimensional list, where zeroes stand for  empty cells, ones stand for X’s and twos stand for O’s. Write a function that is given such a list and randomly chooses a spot in which to place  a 2 (O). The spot chosen must currently be empty and a spot must be chosen."
      ]
    },
    {
      "cell_type": "code",
      "execution_count": 9,
      "metadata": {
        "id": "nmxK8vkrmWMs"
      },
      "outputs": [
        {
          "name": "stdout",
          "output_type": "stream",
          "text": [
            "[[1, 2, 0], [1, 2, 1], [1, 2, 2]]\n"
          ]
        }
      ],
      "source": [
        "from random import randint\n",
        "def tic_tac_toe(list):\n",
        "  '''\n",
        "  tic_tac_toe returns the same tic-tac-toe list but having one changed space from empty (0) to O (2).\n",
        "  args:\n",
        "  list(list): the tic-tac-toe game.\n",
        "\n",
        "  Return:\n",
        "  list(list): the same tic-tac-toe list but having one changed space from empty (0) to O (2).\n",
        "  '''\n",
        "  list=[[1, 2, 0],\n",
        "        [1, 2, 1],\n",
        "        [1, 2, 0]]\n",
        "  i=randint(0, 2)\n",
        "  k=randint(0, 2)\n",
        "  if list[i][k]==0:\n",
        "    list[i][k]=2\n",
        "  while list[i][k]!=0:\n",
        "    i=randint(0, 2)\n",
        "    k=randint(0, 2)\n",
        "    if list[i][k]==0:\n",
        "      list[i][k]=2\n",
        "      break\n",
        "  return list\n",
        "output=tic_tac_toe(list)\n",
        "print(output)"
      ]
    },
    {
      "cell_type": "markdown",
      "metadata": {
        "id": "YCBMHKgfmWMs"
      },
      "source": [
        "Ex10:  Write a function that is given a 9 × 9 potentially solved Sudoku and returns True if it is solved correctly and False if there is a mistake. The Sudoku is correctly solved if there are\n",
        " no repeated numbers in any row or any column or in any of the nine “blocks.”\n"
      ]
    },
    {
      "cell_type": "code",
      "execution_count": 10,
      "metadata": {
        "id": "hlwoIAm2mWMt"
      },
      "outputs": [
        {
          "name": "stdout",
          "output_type": "stream",
          "text": [
            "(True, False, False)\n"
          ]
        }
      ],
      "source": [
        "def sudoku(list):\n",
        "  '''\n",
        "  sudoku returns the tree booleans (True if the cetagory is solved correctly or False otherwise),\n",
        "  where the first boolean is column, second is raw, and third is block,\n",
        "  that check the columns, raws and blocks in the 9x9 sudoku respectively.\n",
        "  args:\n",
        "  list(list): the sudoku game.\n",
        "\n",
        "  Return:\n",
        "  column(boolean), raw(boolean), block(boolean)\n",
        "  '''\n",
        "  list=[[1, 1, 1],[1, 1, 1],[1, 1, 1],\n",
        "        [2, 2, 2],[2, 2, 2],[2, 2, 2],\n",
        "        [3, 3, 3],[3, 3, 3],[3, 3, 3],\n",
        "        [4, 4, 4],[4, 4, 4],[4, 4, 4],\n",
        "        [5, 5, 5],[5, 5, 5],[5, 5, 5],\n",
        "        [6, 6, 6],[6, 6, 6],[6, 6, 6],\n",
        "        [7, 7, 7],[7, 7, 7],[7, 7, 7],\n",
        "        [8, 8, 8],[8, 8, 8],[8, 8, 8],\n",
        "        [9, 9, 9],[9, 9, 9],[9, 9, 9]]\n",
        "  column=True\n",
        "  raw=True\n",
        "  block=True\n",
        "  f=0\n",
        "  while column==True and f<3:\n",
        "    f+=1\n",
        "    for c in range(3):\n",
        "      for k in range(3):\n",
        "        list1=[]\n",
        "        for i in range(9):\n",
        "          list1.append(list[i*3+c][k])\n",
        "        if len(set(list1))<9:\n",
        "          column=False\n",
        "        else:\n",
        "          column=True\n",
        "  f=0\n",
        "  while raw==True and f<9:\n",
        "    for b in range(9):\n",
        "      list1=[]\n",
        "      for a in range(3):\n",
        "        for k in range(3):\n",
        "          list1.append(list[b*3+a][k])\n",
        "      if len(set(list1))<9:\n",
        "        raw=False\n",
        "      else:\n",
        "        raw=True\n",
        "    f+=1\n",
        "  k=0\n",
        "  while block==True and k<2:\n",
        "    for i in range(3):\n",
        "      for c in range(3):\n",
        "        list1=[]\n",
        "        for a in range(3):\n",
        "          for b in range(3):\n",
        "            list1.append(list[a*3+c+i*9][b])\n",
        "        if len(set(list1))<9:\n",
        "          block=False\n",
        "        else:\n",
        "          block=True\n",
        "    k+=1\n",
        "  return column, raw, block\n",
        "result=sudoku(list)\n",
        "print(result)"
      ]
    }
  ],
  "metadata": {
    "colab": {
      "name": "Ex5_Function.ipynb",
      "provenance": []
    },
    "kernelspec": {
      "display_name": "Python 3",
      "name": "python3"
    },
    "language_info": {
      "codemirror_mode": {
        "name": "ipython",
        "version": 3
      },
      "file_extension": ".py",
      "mimetype": "text/x-python",
      "name": "python",
      "nbconvert_exporter": "python",
      "pygments_lexer": "ipython3",
      "version": "3.12.1"
    }
  },
  "nbformat": 4,
  "nbformat_minor": 0
}
