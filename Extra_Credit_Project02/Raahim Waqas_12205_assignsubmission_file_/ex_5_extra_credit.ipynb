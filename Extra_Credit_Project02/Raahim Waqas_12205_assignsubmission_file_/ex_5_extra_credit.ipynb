{
  "cells": [
    {
      "cell_type": "markdown",
      "metadata": {
        "id": "view-in-github"
      },
      "source": [
        "<a href=\"https://colab.research.google.com/github/myothida/PythonProgramming/blob/main/Ex5_Function.ipynb\" target=\"_parent\"><img src=\"https://colab.research.google.com/assets/colab-badge.svg\" alt=\"Open In Colab\"/></a>"
      ]
    },
    {
      "cell_type": "markdown",
      "metadata": {
        "id": "b-1b6ywy-O5i"
      },
      "source": [
        "Exercises are taken from : https://www.brianheinold.net/python/A_Practical_Introduction_to_Python_Programming_Heinold.pdf\n"
      ]
    },
    {
      "cell_type": "markdown",
      "metadata": {
        "id": "pps5xBbs-I9w"
      },
      "source": [
        "*Ex* 1: Write a function called rectangle that takes two integers m and n as arguments and prints\n",
        "out an m× n box consisting of asterisks. Shown below is the output of rectangle(2,4)\n",
        "****\n",
        "****"
      ]
    },
    {
      "cell_type": "code",
      "execution_count": 1,
      "metadata": {
        "colab": {
          "base_uri": "https://localhost:8080/"
        },
        "id": "S_5WWVLH3u8y",
        "outputId": "9b11fb57-39a0-43a4-db97-a3430fc31e73"
      },
      "outputs": [
        {
          "name": "stdout",
          "output_type": "stream",
          "text": [
            "****\n",
            "****\n"
          ]
        }
      ],
      "source": [
        "def rectangle(m, n):\n",
        "    \"\"\"Prints an m × n rectangle of asterisks.\"\"\"\n",
        "    for _ in range(m):\n",
        "        print('*' * n)\n",
        "\n",
        "rectangle(2, 4)\n"
      ]
    },
    {
      "cell_type": "markdown",
      "metadata": {
        "id": "0QS7SmPV-coO"
      },
      "source": [
        "Ex 2: Write a function that takes an integer n and returns a random integer with exactly n digits. For\n",
        "instance, if n is 3, then 125 and 593 would be valid return values, but 093 would not because\n",
        "that is really 93, which is a two-digit number."
      ]
    },
    {
      "cell_type": "code",
      "execution_count": 2,
      "metadata": {
        "colab": {
          "base_uri": "https://localhost:8080/"
        },
        "id": "c4ejnmGJ-MzL",
        "outputId": "f0b76bf3-6ba6-40bb-e616-ba080fe4f191"
      },
      "outputs": [
        {
          "name": "stdout",
          "output_type": "stream",
          "text": [
            "398\n"
          ]
        }
      ],
      "source": [
        "import random\n",
        "\n",
        "def random_n_digit_number(n):\n",
        "    \"\"\"Returns a random integer with exactly n digits.\"\"\"\n",
        "    if n <= 0:\n",
        "        raise ValueError(\"Number of digits must be positive.\")\n",
        "\n",
        "    lower_bound = 10**(n - 1)\n",
        "    upper_bound = 10**n - 1\n",
        "\n",
        "    return random.randint(lower_bound, upper_bound)\n",
        "print (random_n_digit_number(3))\n"
      ]
    },
    {
      "cell_type": "markdown",
      "metadata": {
        "id": "B0P_F5Ld-ldg"
      },
      "source": [
        "Ex 3: Write a function called number_of_factors that takes an integer and returns how many\n",
        "factors the number has."
      ]
    },
    {
      "cell_type": "code",
      "execution_count": null,
      "metadata": {
        "id": "Yr2BLCXp-oTi"
      },
      "outputs": [],
      "source": [
        "def number_of_factors(n):\n",
        "    #syntax error\n",
        "    \"\"\"Returns the number of factors of the integer n.\"\"\"\n",
        "    if n < = 0:\n",
        "        raise ValueError (\"Input must be a positive integer.\")\n",
        "    count = 0\n",
        "    for i in range(1, int(n**0.5) + 1):\n",
        "        if n % i = = 0:\n",
        "            count + = 1\n",
        "            if i != n // i:\n",
        "                count += 1\n",
        "    return count\n",
        "print(number_of_factors(12))\n"
      ]
    },
    {
      "cell_type": "markdown",
      "metadata": {
        "id": "7w0DDTyY-o_4"
      },
      "source": [
        "Ex4: Write a function called first_diff that is given two strings and returns the first location in\n",
        "which the strings differ. If the strings are identical, it should return -1.Ignore the case in your function. It means h and H are the same."
      ]
    },
    {
      "cell_type": "code",
      "execution_count": 5,
      "metadata": {
        "colab": {
          "base_uri": "https://localhost:8080/"
        },
        "id": "1WOvaf0z-6J6",
        "outputId": "494b66cc-a401-410c-947d-db545b108bcc"
      },
      "outputs": [
        {
          "data": {
            "text/plain": [
              "-1"
            ]
          },
          "execution_count": 5,
          "metadata": {},
          "output_type": "execute_result"
        }
      ],
      "source": [
        "def first_diff(str1, str2):\n",
        "    \"\"\"Returns the index of the first difference between two strings, ignoring case. Returns -1 if identical.\"\"\"\n",
        "    str1 = str1.lower()\n",
        "    str2 = str2.lower()\n",
        "\n",
        "    min_length = min(len(str1), len(str2))\n",
        "\n",
        "    for i in range(min_length):\n",
        "        if str1[i] != str2[i]:\n",
        "            return i\n",
        "\n",
        "    if len(str1) != len(str2):\n",
        "        return min_length\n",
        "\n",
        "    return -1\n",
        "\n",
        "first_diff('str1', 'str1')"
      ]
    },
    {
      "cell_type": "markdown",
      "metadata": {
        "id": "jLM8fAg_-6th"
      },
      "source": [
        "Ex5: Write a function called root that is given a number x and an integer n and returns x/n. In\n",
        "the function definition, set the default value of n to 2."
      ]
    },
    {
      "cell_type": "code",
      "execution_count": 6,
      "metadata": {
        "id": "1TrSgTDa_Fu0"
      },
      "outputs": [
        {
          "name": "stdout",
          "output_type": "stream",
          "text": [
            "5.0\n",
            "2.0\n"
          ]
        }
      ],
      "source": [
        "def root(x, n=2):\n",
        "    \"\"\"Returns x divided by n with a default value of n=2.\"\"\"\n",
        "    return x / n\n",
        "\n",
        "print(root(10))\n",
        "print(root(10, 5))\n"
      ]
    },
    {
      "cell_type": "markdown",
      "metadata": {
        "id": "sIRfT4H5pAu1"
      },
      "source": [
        "Ex6: Write a function that solves the system of equations ax + by = e and cx +dy = f. Your function should takes 4 parameters, (a, b, c, d, e,f) and return the values of x and y."
      ]
    },
    {
      "cell_type": "code",
      "execution_count": null,
      "metadata": {
        "id": "KPt9sn4xr0AN"
      },
      "outputs": [],
      "source": []
    },
    {
      "cell_type": "markdown",
      "metadata": {
        "id": "THIfoiTGpAu2"
      },
      "source": []
    },
    {
      "cell_type": "markdown",
      "metadata": {
        "id": "Vi-3Ag7BpAu2"
      },
      "source": [
        "Ex7:  Write a function called change_case that given a string, returns a string with each upper  case letter replaced by a lower case letter and vice-versa"
      ]
    },
    {
      "cell_type": "code",
      "execution_count": 5,
      "metadata": {
        "colab": {
          "base_uri": "https://localhost:8080/"
        },
        "id": "HLv41UEApAu3",
        "outputId": "bb910b4b-ed94-47bd-e93b-7597b37d86dc"
      },
      "outputs": [
        {
          "name": "stdout",
          "output_type": "stream",
          "text": [
            "rAAHIM wAQAS!\n"
          ]
        }
      ],
      "source": [
        "def change_case(s):\n",
        "    \"\"\"Returns a string with each uppercase letter replaced by a lowercase letter and vice-versa.\"\"\"\n",
        "    return ''.join([char.lower() if char.isupper() else char.upper() for char in s])\n",
        "\n",
        "print(change_case(\"Raahim Waqas!\"))\n"
      ]
    },
    {
      "cell_type": "markdown",
      "metadata": {
        "id": "Y4meafX3pAu4"
      },
      "source": [
        "Ex8:  Write a function called primes that is given a number n and returns a list of the first n  primes. Let the default value of n be 100."
      ]
    },
    {
      "cell_type": "code",
      "execution_count": 7,
      "metadata": {
        "colab": {
          "base_uri": "https://localhost:8080/"
        },
        "id": "FKXhwbd6sScR",
        "outputId": "000335ef-a105-4228-d474-94d98e125719"
      },
      "outputs": [
        {
          "name": "stdout",
          "output_type": "stream",
          "text": [
            "[2, 3, 5, 7, 11, 13, 17, 19, 23, 29]\n"
          ]
        }
      ],
      "source": [
        "def primes(n=100):\n",
        "    \"\"\"Returns a list of the first n prime numbers.\"\"\"\n",
        "    primelist = []\n",
        "    candidate = 2\n",
        "\n",
        "    while len(primelist) < n:\n",
        "        is_prime = True\n",
        "        for p in primelist:\n",
        "            if p * p > candidate:\n",
        "                break\n",
        "            if candidate % p == 0:\n",
        "                is_prime = False\n",
        "                break\n",
        "        if is_prime:\n",
        "            primelist.append(candidate)\n",
        "        candidate += 1\n",
        "\n",
        "    return primelist\n",
        "\n",
        "print(primes(10))"
      ]
    },
    {
      "cell_type": "markdown",
      "metadata": {
        "id": "NCm3vMBSpAu4"
      },
      "source": []
    },
    {
      "cell_type": "markdown",
      "metadata": {
        "id": "fxdNz6JPpAu5"
      },
      "source": [
        "Ex9: ATic-tac-toe board can be represented be a 3×3 two-dimensional list, where zeroes stand for  empty cells, ones stand for X’s and twos stand for O’s. Write a function that is given such a list and randomly chooses a spot in which to place  a 2 (O). The spot chosen must currently be empty and a spot must be chosen."
      ]
    },
    {
      "cell_type": "code",
      "execution_count": 10,
      "metadata": {
        "colab": {
          "base_uri": "https://localhost:8080/",
          "height": 106
        },
        "id": "mM-H6cctpAu6",
        "outputId": "d6bb78a5-c44e-4063-9b98-3ceadfd5da5d"
      },
      "outputs": [
        {
          "ename": "IndentationError",
          "evalue": "unexpected indent (<ipython-input-10-3651ea02c713>, line 15)",
          "output_type": "error",
          "traceback": [
            "\u001b[0;36m  File \u001b[0;32m\"<ipython-input-10-3651ea02c713>\"\u001b[0;36m, line \u001b[0;32m15\u001b[0m\n\u001b[0;31m    [1, 0, 2],\u001b[0m\n\u001b[0m    ^\u001b[0m\n\u001b[0;31mIndentationError\u001b[0m\u001b[0;31m:\u001b[0m unexpected indent\n"
          ]
        }
      ],
      "source": [
        "import random\n",
        "\n",
        "def place_O(board):\n",
        "    \"\"\"Places an 'O' (2) in a randomly chosen empty spot on the board.\"\"\"\n",
        "    empty_spots = [(i, j) for i in range(3) for j in range(3) if board[i][j] == 0]\n",
        "\n",
        "    if not empty_spots:\n",
        "        print(\"No empty spots available.\")\n",
        "        return board\n",
        "    chosen_spot = random.choice(empty_spots)\n",
        "    board[chosen_spot[0]][chosen_spot[1]] = 2\n",
        "\n",
        "    return board\n",
        "tic_tac_toe_board = []\n",
        "      [1, 0, 2],\n",
        "      [0, 1, 0],\n",
        "      [2, 0, 0]\n",
        "updated_board = place_O(tic_tac_toe_board)\n",
        "for row in updated_board:\n",
        "    print(row)\n"
      ]
    },
    {
      "cell_type": "markdown",
      "metadata": {
        "id": "5D9J9qV0pAu6"
      },
      "source": [
        "**Ex10**:  Write a function that is given a 9 × 9 potentially solved Sudoku and returns True if it is solved correctly and False if there is a mistake. The Sudoku is correctly solved if there are\n",
        " no repeated numbers in any row or any column or in any of the nine “blocks.”\n"
      ]
    },
    {
      "cell_type": "code",
      "execution_count": null,
      "metadata": {
        "id": "z9xOLLNArRqc"
      },
      "outputs": [],
      "source": [
        "def is_valid_sudoku(board):\n",
        "    \"\"\"Check if a 9x9 Sudoku board is solved correctly.\"\"\"\n",
        "\n",
        "    # Check rows and columns\n",
        "    for i in range(9):\n",
        "        row = set()\n",
        "        column = set()\n",
        "        for j in range(9):\n",
        "            # Check row\n",
        "            if board[i][j] != 0:\n",
        "                if board[i][j] in row:\n",
        "                    return False\n",
        "                row.add(board[i][j])\n",
        "\n",
        "            # Check column\n",
        "            if board[j][i] != 0:\n",
        "                if board[j][i] in column:\n",
        "                    return False\n",
        "                column.add(board[j][i])\n",
        "\n",
        "    # Check 3x3 blocks\n",
        "    for block_row in range(3):\n",
        "        for block_col in range(3):\n",
        "            block = set()\n",
        "            for i in range(3):\n",
        "                for j in range(3):\n",
        "                    num = board[block_row * 3 + i][block_col * 3 + j]\n",
        "                    if num != 0:\n",
        "                        if num in block:\n",
        "                            return False\n",
        "                        block.add(num)\n",
        "\n",
        "    return True"
      ]
    }
  ],
  "metadata": {
    "colab": {
      "provenance": []
    },
    "kernelspec": {
      "display_name": "Python 3",
      "name": "python3"
    },
    "language_info": {
      "codemirror_mode": {
        "name": "ipython",
        "version": 3
      },
      "file_extension": ".py",
      "mimetype": "text/x-python",
      "name": "python",
      "nbconvert_exporter": "python",
      "pygments_lexer": "ipython3",
      "version": "3.12.1"
    }
  },
  "nbformat": 4,
  "nbformat_minor": 0
}
