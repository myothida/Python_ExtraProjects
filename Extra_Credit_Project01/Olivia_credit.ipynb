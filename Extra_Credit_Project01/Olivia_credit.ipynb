{
  "cells": [
    {
      "cell_type": "code",
      "execution_count": 3,
      "metadata": {
        "colab": {
          "base_uri": "https://localhost:8080/"
        },
        "id": "QL95A-QElpLP",
        "outputId": "ab9b328d-45e5-4d56-cf76-bb23cafaf142"
      },
      "outputs": [
        {
          "name": "stdout",
          "output_type": "stream",
          "text": [
            "In this game you will guess a whole number between 1 and 1000 you will get 10 chances.\n",
            "Too low!\n",
            "Too low!\n",
            "Too low!\n",
            "Too low!\n",
            "Too low!\n",
            "Too low!\n",
            "Too low!\n",
            "Too low!\n",
            "Too low!\n"
          ]
        }
      ],
      "source": [
        "# commented by Myo Thida\n",
        "# 3 out of 5 points\n",
        "# The code does not handle the invalid input such as string. # \n",
        "# The code does not include comments explaining key parts of the program.\n",
        "print(\"In this game you will guess a whole number between 1 and 1000 you will get 10 chances.\")\n",
        "again = \"yes\"\n",
        "while again == \"yes\":\n",
        "\n",
        "  import random\n",
        "  number = random.randint(1,1000)\n",
        "  guess = input(\"enter a random number between 1 and 1000: \")\n",
        "\n",
        "  while not guess.isnumeric():\n",
        "    guess = input(\"enter a valid number (# between 1 and 1000): \")\n",
        "  guess = int(guess)\n",
        "\n",
        "  chances = 9\n",
        "\n",
        "  while chances > 0 and number != guess :\n",
        "    if (guess <1 and guess >1000):\n",
        "      print (\"enter a valid number\")\n",
        "\n",
        "    elif (guess > number):\n",
        "      print(\"Too high!\")\n",
        "\n",
        "    elif (guess < number):\n",
        "      print(\"Too low!\")\n",
        "\n",
        "\n",
        "    chances = chances - 1\n",
        "    guess = input(\"Try again: \")\n",
        "    guess = int(guess)\n",
        "\n",
        "\n",
        "\n",
        "  if (guess == number):\n",
        "        again = input(\"Correct! would you like to play again? (type 'yes' or 'no'): \").lower()\n",
        "\n",
        "  if (chances == 0):\n",
        "       again = input(\"Sorry you ran out of chances. Would you like to play again?(type 'yes' or 'no'):\" ).lower()\n",
        "\n",
        "\n",
        "\n",
        "\n",
        "\n"
      ]
    }
  ],
  "metadata": {
    "colab": {
      "provenance": []
    },
    "kernelspec": {
      "display_name": "Python 3",
      "name": "python3"
    },
    "language_info": {
      "codemirror_mode": {
        "name": "ipython",
        "version": 3
      },
      "file_extension": ".py",
      "mimetype": "text/x-python",
      "name": "python",
      "nbconvert_exporter": "python",
      "pygments_lexer": "ipython3",
      "version": "3.12.1"
    }
  },
  "nbformat": 4,
  "nbformat_minor": 0
}
