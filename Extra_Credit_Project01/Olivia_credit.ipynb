{
  "nbformat": 4,
  "nbformat_minor": 0,
  "metadata": {
    "colab": {
      "provenance": []
    },
    "kernelspec": {
      "name": "python3",
      "display_name": "Python 3"
    },
    "language_info": {
      "name": "python"
    }
  },
  "cells": [
    {
      "cell_type": "code",
      "execution_count": null,
      "metadata": {
        "id": "QL95A-QElpLP",
        "colab": {
          "base_uri": "https://localhost:8080/"
        },
        "outputId": "ab9b328d-45e5-4d56-cf76-bb23cafaf142"
      },
      "outputs": [
        {
          "output_type": "stream",
          "name": "stdout",
          "text": [
            "In this game you will guess a whole number between 1 and 1000 you will get 10 chances.\n"
          ]
        }
      ],
      "source": [
        "print(\"In this game you will guess a whole number between 1 and 1000 you will get 10 chances.\")\n",
        "again = \"yes\"\n",
        "while again == \"yes\":\n",
        "\n",
        "  import random\n",
        "  number = random.randint(1,1000)\n",
        "  guess = input(\"enter a random number between 1 and 1000: \")\n",
        "\n",
        "  while not guess.isnumeric():\n",
        "    guess = input(\"enter a valid number (# between 1 and 1000): \")\n",
        "  guess = int(guess)\n",
        "\n",
        "  chances = 9\n",
        "\n",
        "  while chances > 0 and number != guess :\n",
        "    if (guess <1 and guess >1000):\n",
        "      print (\"enter a valid number\")\n",
        "\n",
        "    elif (guess > number):\n",
        "      print(\"Too high!\")\n",
        "\n",
        "    elif (guess < number):\n",
        "      print(\"Too low!\")\n",
        "\n",
        "\n",
        "    chances = chances - 1\n",
        "    guess = input(\"Try again: \")\n",
        "    guess = int(guess)\n",
        "\n",
        "\n",
        "\n",
        "  if (guess == number):\n",
        "        again = input(\"Correct! would you like to play again? (type 'yes' or 'no'): \").lower()\n",
        "\n",
        "  if (chances == 0):\n",
        "       again = input(\"Sorry you ran out of chances. Would you like to play again?(type 'yes' or 'no'):\" ).lower()\n",
        "\n",
        "\n",
        "\n",
        "\n",
        "\n"
      ]
    }
  ]
}